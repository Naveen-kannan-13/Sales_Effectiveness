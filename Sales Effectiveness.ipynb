{
 "cells": [
  {
   "cell_type": "markdown",
   "id": "810a5f3b",
   "metadata": {},
   "source": [
    "<h1 style=\"color:Green; font-family: 'Helvetica Neue', sans-serif; font-size:40px; text-align: center; font-weight:bold; font-style:italic\">Sales Effectiveness</h1>"
   ]
  },
  {
   "cell_type": "markdown",
   "id": "29ad765c",
   "metadata": {},
   "source": [
    "Sales effectiveness is the driving force behind our project. It embodies the idea of optimizing sales processes to achieve the best possible results. This optimization isn't a one-size-fits-all approach but rather a dynamic strategy that adapts to the unique goals and objectives of our organization. It encompasses a range of actions aimed at improving the overall sales performance, which could translate into higher profits, increased revenue, successful product launches, or other specific outcomes as defined by our organizational strategy. To truly harness sales effectiveness, we must begin by defining what success means to our project. This definition serves as our guiding star, helping us determine the most effective ways to achieve our goals within the Product Sales category. It's not just about achieving any results but about achieving the results that matter most to us.\n",
    "\n",
    "<h1 style=\"font-family:verdana; color:#FF0000; background-color:#FFFFFF;font-size:15px;text-align: Left Corner;\">Category: Product Sales</h1>\n",
    "\n",
    "Our project falls under the category of Product Sales. This category involves the art and science of selling physical or digital products to customers. It's a dynamic and ever-evolving space where market trends, customer preferences, and competitive landscapes are continually shifting. Within Product Sales, success can manifest in various ways. It might mean optimizing profit margins to ensure financial sustainability. Alternatively, it could entail maximizing revenue by tapping into new markets or customer segments. Another face could revolve around the successful introduction and adoption of new products in response to changing market demands.\n",
    "\n",
    "Bringing it together for the synergy between sales effectiveness and the Product Sales category is the essence of our project. Sales effectiveness is our strategy for achieving success within the context of selling products. It's about identifying the most impactful sales tasks, setting clear objectives, and optimizing processes to deliver outcomes that align with our goals within the realm of Product Sales. This approach ensures that our efforts are not scattered but rather focused on the metrics and KPIs that matter most to our project's success, whether it's boosting profits, increasing revenue, or excelling in product launches."
   ]
  },
  {
   "cell_type": "markdown",
   "id": "4248f7ce",
   "metadata": {},
   "source": [
    "<h1 style=\"font-family:Times New Roman; color:#FF0000; background-color:#FFFFFF;font-size:20px;text-align: Left Corner;\">Client: Sales Effectiveness</h1>\n",
    "<h1 style=\"font-family:Times New Roman; color:#FF0000; background-color:#FFFFFF;font-size:20px;text-align: Left Corner;\">Category: Product Sales</h1>\n",
    "<h1 style=\"font-family:Times New Roman; color:#FF0000; background-color:#FFFFFF;font-size:20px;text-align: Left Corner;\">Project Ref: PM-PR-0019</h1>"
   ]
  },
  {
   "cell_type": "markdown",
   "id": "8f720e8d",
   "metadata": {},
   "source": [
    "<h1 style=\"font-family:verdana; color:#228B22; background-color:#FFFFE0;text-align: center;\">Business Case</h1>"
   ]
  },
  {
   "cell_type": "markdown",
   "id": "70a1600d",
   "metadata": {},
   "source": [
    "FicZon Inc is an IT solution provider with products ranging from on-\n",
    "premises products to SAAS based solutions. FicZon major leads\n",
    "generation channel is digital and through their website.\n",
    "FicZon business is majorly dependent on the sales force\n",
    "effectiveness. As the market is maturing and more new competitors\n",
    "entering the market, FicZon is experiencing the dip in sales.\n",
    "Effective sales is dependent on lead quality and as of now, this is\n",
    "based on manual categorization and highly depended on sales staff.\n",
    "Though there is a quality process, which continuously updates the\n",
    "lead categorization, it’s value is in for post analysis, rather than\n",
    "conversation.\n",
    "FicZon wants to explore Machine Learning to pre-categorize the lead\n",
    "quality and as result, expecting significant increase in sales\n",
    "effectiveness."
   ]
  },
  {
   "cell_type": "markdown",
   "id": "d9a4433b",
   "metadata": {},
   "source": [
    "<h1 style=\"font-family:verdana; color:#228B22; background-color:#FFFFE0;text-align: center;\">Project Goal</h1>"
   ]
  },
  {
   "cell_type": "markdown",
   "id": "f7d232b0",
   "metadata": {},
   "source": [
    "1. Data exploration insights – Sales effectiveness.\n",
    "2. ML model to predict the Lead Category (High Potential , Low Potential)"
   ]
  },
  {
   "cell_type": "markdown",
   "id": "dd150b4b",
   "metadata": {},
   "source": [
    "<h1 style=\"font-family:verdana; color:#228B22; background-color:#FFFFE0;text-align: center;\">Project Steps</h1>"
   ]
  },
  {
   "cell_type": "markdown",
   "id": "5aa8140c",
   "metadata": {},
   "source": [
    "1. Domain analysis.\n",
    "2. Importing Libraries\n",
    "3. Featching data from data-base.\n",
    "4. Basic Check\n",
    "5. Data preprocessing\n",
    "6. EDA: [Univariate, Bivariate & Multivariate analysis condition]\n",
    "7. Feature selection.\n",
    "8. Model creation.\n",
    "9. Model Evaluation.\n",
    "10. Model Saving."
   ]
  },
  {
   "cell_type": "markdown",
   "id": "f9dcbbce",
   "metadata": {},
   "source": [
    "<h1 style=\"font-family:verdana; color:#228B22; background-color:#FFFFE0;text-align: center;\">Domain Analysis</h1>"
   ]
  },
  {
   "cell_type": "markdown",
   "id": "ec833ad7",
   "metadata": {},
   "source": [
    "FicZon Inc., an IT solution provider operating in the domain of product sales, faces the challenges of a maturing market and increasing competition. Their primary lead generation channel is digital, driven mainly through their website. However, the company has experienced a significant dip in its sales performance, a concern exacerbated by the intensified competitive landscape. The core issue lies in the determination of lead quality, which presently relies heavily on manual categorization and the judgment of the sales team. While a quality assurance process exists, it primarily serves a post-analysis purpose rather than facilitating real-time decision-making. To address these pressing challenges, FicZon has embarked on a data science project with two overarching objectives. First, they aim to gain comprehensive insights into their sales effectiveness through data exploration, analyzing historical data to uncover patterns, correlations, and factors contributing to successful sales outcomes. These insights will form the bedrock for understanding the current state of sales and guiding strategic decisions. Secondly, the project seeks to develop a machine learning model capable of predicting lead quality, categorizing leads as \"High Potential\" or \"Low Potential.\" By automating the lead categorization process with machine learning, FicZon intends to reduce reliance on manual judgment and enable real-time decision-making, thereby enhancing the quality of leads and ultimately improving sales effectiveness. The project's significance lies in its potential to address declining sales, strengthen market competitiveness, and optimize sales strategies through data-driven insights and predictive analytics. The next steps involve rigorous data collection, preprocessing, exploratory data analysis, model development, validation, deployment, and continuous monitoring to ensure sustained improvements in sales performance."
   ]
  },
  {
   "cell_type": "markdown",
   "id": "a5fbc18c",
   "metadata": {},
   "source": [
    "<h1 style=\"font-family:verdana; color:#228B22; background-color:#FFFFE0;text-align: center;\">Importing Libraries</h1>"
   ]
  },
  {
   "cell_type": "code",
   "execution_count": 1,
   "id": "b7f3fd96",
   "metadata": {},
   "outputs": [],
   "source": [
    "import os\n",
    "import mysql.connector\n",
    "import pandas as pd\n",
    "import numpy as np\n",
    "import matplotlib.pyplot as plt\n",
    "%matplotlib inline\n",
    "import seaborn as sns\n",
    "import warnings \n",
    "warnings.filterwarnings('ignore')"
   ]
  },
  {
   "cell_type": "markdown",
   "id": "262e7520",
   "metadata": {},
   "source": [
    "<h1 style=\"font-family:verdana; color:#228B22; background-color:#FFFFE0;text-align: center;\">Featching data from data-base\n",
    "</h1>"
   ]
  },
  {
   "cell_type": "code",
   "execution_count": 2,
   "id": "b43f066f",
   "metadata": {},
   "outputs": [],
   "source": [
    "connection = mysql.connector.connect(host='18.136.157.135',\n",
    "                                username='dm_team2',\n",
    "                                password='DM!$Team&27@9!20!',\n",
    "                                database='project_sales')"
   ]
  },
  {
   "cell_type": "code",
   "execution_count": 3,
   "id": "90b792b4",
   "metadata": {},
   "outputs": [
    {
     "data": {
      "text/html": [
       "<div>\n",
       "<style scoped>\n",
       "    .dataframe tbody tr th:only-of-type {\n",
       "        vertical-align: middle;\n",
       "    }\n",
       "\n",
       "    .dataframe tbody tr th {\n",
       "        vertical-align: top;\n",
       "    }\n",
       "\n",
       "    .dataframe thead th {\n",
       "        text-align: right;\n",
       "    }\n",
       "</style>\n",
       "<table border=\"1\" class=\"dataframe\">\n",
       "  <thead>\n",
       "    <tr style=\"text-align: right;\">\n",
       "      <th></th>\n",
       "      <th>Created</th>\n",
       "      <th>Product_ID</th>\n",
       "      <th>Source</th>\n",
       "      <th>Mobile</th>\n",
       "      <th>EMAIL</th>\n",
       "      <th>Sales_Agent</th>\n",
       "      <th>Location</th>\n",
       "      <th>Delivery_Mode</th>\n",
       "      <th>Status</th>\n",
       "    </tr>\n",
       "  </thead>\n",
       "  <tbody>\n",
       "    <tr>\n",
       "      <th>0</th>\n",
       "      <td>14-11-2018 10:05</td>\n",
       "      <td></td>\n",
       "      <td>Website</td>\n",
       "      <td>984XXXXXXX</td>\n",
       "      <td>aXXXXXXX@gmail.com</td>\n",
       "      <td>Sales-Agent-11</td>\n",
       "      <td></td>\n",
       "      <td>Mode-5</td>\n",
       "      <td>Open</td>\n",
       "    </tr>\n",
       "    <tr>\n",
       "      <th>1</th>\n",
       "      <td>14-11-2018 09:22</td>\n",
       "      <td></td>\n",
       "      <td>Website</td>\n",
       "      <td>XXXXXXX</td>\n",
       "      <td>#VALUE!</td>\n",
       "      <td>Sales-Agent-10</td>\n",
       "      <td></td>\n",
       "      <td>Mode-5</td>\n",
       "      <td>Open</td>\n",
       "    </tr>\n",
       "    <tr>\n",
       "      <th>2</th>\n",
       "      <td>14-11-2018 09:21</td>\n",
       "      <td></td>\n",
       "      <td>Website</td>\n",
       "      <td>XXXXXXX</td>\n",
       "      <td>dXXXXXXX@yahoo.com</td>\n",
       "      <td>Sales-Agent-10</td>\n",
       "      <td></td>\n",
       "      <td>Mode-5</td>\n",
       "      <td>Open</td>\n",
       "    </tr>\n",
       "    <tr>\n",
       "      <th>3</th>\n",
       "      <td>14-11-2018 08:46</td>\n",
       "      <td></td>\n",
       "      <td>Website</td>\n",
       "      <td>XXXXXXX</td>\n",
       "      <td>wXXXXXXX@gmail.com</td>\n",
       "      <td>Sales-Agent-10</td>\n",
       "      <td></td>\n",
       "      <td>Mode-5</td>\n",
       "      <td>Open</td>\n",
       "    </tr>\n",
       "    <tr>\n",
       "      <th>4</th>\n",
       "      <td>14-11-2018 07:34</td>\n",
       "      <td></td>\n",
       "      <td>Website</td>\n",
       "      <td>XXXXXXX</td>\n",
       "      <td>cXXXXXXX@gmail.com</td>\n",
       "      <td>Sales-Agent-10</td>\n",
       "      <td></td>\n",
       "      <td>Mode-5</td>\n",
       "      <td>Open</td>\n",
       "    </tr>\n",
       "  </tbody>\n",
       "</table>\n",
       "</div>"
      ],
      "text/plain": [
       "            Created Product_ID   Source      Mobile               EMAIL  \\\n",
       "0  14-11-2018 10:05             Website  984XXXXXXX  aXXXXXXX@gmail.com   \n",
       "1  14-11-2018 09:22             Website     XXXXXXX             #VALUE!   \n",
       "2  14-11-2018 09:21             Website     XXXXXXX  dXXXXXXX@yahoo.com   \n",
       "3  14-11-2018 08:46             Website     XXXXXXX  wXXXXXXX@gmail.com   \n",
       "4  14-11-2018 07:34             Website     XXXXXXX  cXXXXXXX@gmail.com   \n",
       "\n",
       "      Sales_Agent Location Delivery_Mode Status  \n",
       "0  Sales-Agent-11                 Mode-5   Open  \n",
       "1  Sales-Agent-10                 Mode-5   Open  \n",
       "2  Sales-Agent-10                 Mode-5   Open  \n",
       "3  Sales-Agent-10                 Mode-5   Open  \n",
       "4  Sales-Agent-10                 Mode-5   Open  "
      ]
     },
     "execution_count": 3,
     "metadata": {},
     "output_type": "execute_result"
    }
   ],
   "source": [
    "query = \"select * from data\"\n",
    "data = pd.read_sql(query,connection)\n",
    "data.head()\n"
   ]
  },
  {
   "cell_type": "markdown",
   "id": "3746c704",
   "metadata": {},
   "source": [
    "<h1 style=\"font-family:verdana; color:#228B22; background-color:#FFFFE0;text-align: center;\">Basic Check</h1>"
   ]
  },
  {
   "cell_type": "markdown",
   "id": "f88d8ccd",
   "metadata": {},
   "source": [
    "<h1 style=\"font-family:verdana; color:#FF0000; background-color:#FFFFFF;font-size:20px;text-align: Left Corner;\">Special Character Remove</h1>\n",
    "\n",
    "Removing the special character better to analysis the data "
   ]
  },
  {
   "cell_type": "code",
   "execution_count": 4,
   "id": "2ec1c605",
   "metadata": {},
   "outputs": [],
   "source": [
    "data = data.replace('[\\£#$%&\\'()*+,-./:;<=>?@[\\\\]^_`{|}~]','',regex=True)"
   ]
  },
  {
   "cell_type": "code",
   "execution_count": 5,
   "id": "746bad74",
   "metadata": {},
   "outputs": [
    {
     "data": {
      "text/html": [
       "<div>\n",
       "<style scoped>\n",
       "    .dataframe tbody tr th:only-of-type {\n",
       "        vertical-align: middle;\n",
       "    }\n",
       "\n",
       "    .dataframe tbody tr th {\n",
       "        vertical-align: top;\n",
       "    }\n",
       "\n",
       "    .dataframe thead th {\n",
       "        text-align: right;\n",
       "    }\n",
       "</style>\n",
       "<table border=\"1\" class=\"dataframe\">\n",
       "  <thead>\n",
       "    <tr style=\"text-align: right;\">\n",
       "      <th></th>\n",
       "      <th>Created</th>\n",
       "      <th>Product_ID</th>\n",
       "      <th>Source</th>\n",
       "      <th>Mobile</th>\n",
       "      <th>EMAIL</th>\n",
       "      <th>Sales_Agent</th>\n",
       "      <th>Location</th>\n",
       "      <th>Delivery_Mode</th>\n",
       "      <th>Status</th>\n",
       "    </tr>\n",
       "  </thead>\n",
       "  <tbody>\n",
       "    <tr>\n",
       "      <th>0</th>\n",
       "      <td>14112018 1005</td>\n",
       "      <td></td>\n",
       "      <td>Website</td>\n",
       "      <td>984XXXXXXX</td>\n",
       "      <td>aXXXXXXXgmailcom</td>\n",
       "      <td>SalesAgent11</td>\n",
       "      <td></td>\n",
       "      <td>Mode5</td>\n",
       "      <td>Open</td>\n",
       "    </tr>\n",
       "    <tr>\n",
       "      <th>1</th>\n",
       "      <td>14112018 0922</td>\n",
       "      <td></td>\n",
       "      <td>Website</td>\n",
       "      <td>XXXXXXX</td>\n",
       "      <td>VALUE!</td>\n",
       "      <td>SalesAgent10</td>\n",
       "      <td></td>\n",
       "      <td>Mode5</td>\n",
       "      <td>Open</td>\n",
       "    </tr>\n",
       "    <tr>\n",
       "      <th>2</th>\n",
       "      <td>14112018 0921</td>\n",
       "      <td></td>\n",
       "      <td>Website</td>\n",
       "      <td>XXXXXXX</td>\n",
       "      <td>dXXXXXXXyahoocom</td>\n",
       "      <td>SalesAgent10</td>\n",
       "      <td></td>\n",
       "      <td>Mode5</td>\n",
       "      <td>Open</td>\n",
       "    </tr>\n",
       "    <tr>\n",
       "      <th>3</th>\n",
       "      <td>14112018 0846</td>\n",
       "      <td></td>\n",
       "      <td>Website</td>\n",
       "      <td>XXXXXXX</td>\n",
       "      <td>wXXXXXXXgmailcom</td>\n",
       "      <td>SalesAgent10</td>\n",
       "      <td></td>\n",
       "      <td>Mode5</td>\n",
       "      <td>Open</td>\n",
       "    </tr>\n",
       "    <tr>\n",
       "      <th>4</th>\n",
       "      <td>14112018 0734</td>\n",
       "      <td></td>\n",
       "      <td>Website</td>\n",
       "      <td>XXXXXXX</td>\n",
       "      <td>cXXXXXXXgmailcom</td>\n",
       "      <td>SalesAgent10</td>\n",
       "      <td></td>\n",
       "      <td>Mode5</td>\n",
       "      <td>Open</td>\n",
       "    </tr>\n",
       "    <tr>\n",
       "      <th>...</th>\n",
       "      <td>...</td>\n",
       "      <td>...</td>\n",
       "      <td>...</td>\n",
       "      <td>...</td>\n",
       "      <td>...</td>\n",
       "      <td>...</td>\n",
       "      <td>...</td>\n",
       "      <td>...</td>\n",
       "      <td>...</td>\n",
       "    </tr>\n",
       "    <tr>\n",
       "      <th>7417</th>\n",
       "      <td>28042018 0945</td>\n",
       "      <td>9</td>\n",
       "      <td>Call</td>\n",
       "      <td></td>\n",
       "      <td>aXXXXXXXgmailcom</td>\n",
       "      <td>SalesAgent6</td>\n",
       "      <td>Mumbai</td>\n",
       "      <td>Mode4</td>\n",
       "      <td>LOST</td>\n",
       "    </tr>\n",
       "    <tr>\n",
       "      <th>7418</th>\n",
       "      <td>28042018 0943</td>\n",
       "      <td>15</td>\n",
       "      <td>Call</td>\n",
       "      <td></td>\n",
       "      <td>VALUE!</td>\n",
       "      <td>SalesAgent12</td>\n",
       "      <td>Other Locations</td>\n",
       "      <td>Mode5</td>\n",
       "      <td>LOST</td>\n",
       "    </tr>\n",
       "    <tr>\n",
       "      <th>7419</th>\n",
       "      <td>28042018 0920</td>\n",
       "      <td>5</td>\n",
       "      <td>Live ChatDirect</td>\n",
       "      <td></td>\n",
       "      <td>sXXXXXXXgmailcom</td>\n",
       "      <td>SalesAgent11</td>\n",
       "      <td>Bangalore</td>\n",
       "      <td>Mode1</td>\n",
       "      <td>Not Responding</td>\n",
       "    </tr>\n",
       "    <tr>\n",
       "      <th>7420</th>\n",
       "      <td>28042018 0804</td>\n",
       "      <td>21</td>\n",
       "      <td>CRM form</td>\n",
       "      <td></td>\n",
       "      <td>YXXXXXXXgmailcom</td>\n",
       "      <td>SalesAgent4</td>\n",
       "      <td>Other Locations</td>\n",
       "      <td>Mode1</td>\n",
       "      <td>Just Enquiry</td>\n",
       "    </tr>\n",
       "    <tr>\n",
       "      <th>7421</th>\n",
       "      <td>28042018 0754</td>\n",
       "      <td>25</td>\n",
       "      <td>Website</td>\n",
       "      <td></td>\n",
       "      <td>cXXXXXXXgmailcom</td>\n",
       "      <td>SalesAgent3</td>\n",
       "      <td>Chennai</td>\n",
       "      <td>Mode1</td>\n",
       "      <td>CONVERTED</td>\n",
       "    </tr>\n",
       "  </tbody>\n",
       "</table>\n",
       "<p>7422 rows × 9 columns</p>\n",
       "</div>"
      ],
      "text/plain": [
       "            Created Product_ID           Source      Mobile             EMAIL  \\\n",
       "0     14112018 1005                     Website  984XXXXXXX  aXXXXXXXgmailcom   \n",
       "1     14112018 0922                     Website     XXXXXXX            VALUE!   \n",
       "2     14112018 0921                     Website     XXXXXXX  dXXXXXXXyahoocom   \n",
       "3     14112018 0846                     Website     XXXXXXX  wXXXXXXXgmailcom   \n",
       "4     14112018 0734                     Website     XXXXXXX  cXXXXXXXgmailcom   \n",
       "...             ...        ...              ...         ...               ...   \n",
       "7417  28042018 0945          9             Call              aXXXXXXXgmailcom   \n",
       "7418  28042018 0943         15             Call                        VALUE!   \n",
       "7419  28042018 0920          5  Live ChatDirect              sXXXXXXXgmailcom   \n",
       "7420  28042018 0804         21         CRM form              YXXXXXXXgmailcom   \n",
       "7421  28042018 0754         25          Website              cXXXXXXXgmailcom   \n",
       "\n",
       "       Sales_Agent         Location Delivery_Mode          Status  \n",
       "0     SalesAgent11                          Mode5            Open  \n",
       "1     SalesAgent10                          Mode5            Open  \n",
       "2     SalesAgent10                          Mode5            Open  \n",
       "3     SalesAgent10                          Mode5            Open  \n",
       "4     SalesAgent10                          Mode5            Open  \n",
       "...            ...              ...           ...             ...  \n",
       "7417   SalesAgent6           Mumbai         Mode4            LOST  \n",
       "7418  SalesAgent12  Other Locations         Mode5            LOST  \n",
       "7419  SalesAgent11        Bangalore         Mode1  Not Responding  \n",
       "7420   SalesAgent4  Other Locations         Mode1    Just Enquiry  \n",
       "7421   SalesAgent3          Chennai         Mode1       CONVERTED  \n",
       "\n",
       "[7422 rows x 9 columns]"
      ]
     },
     "execution_count": 5,
     "metadata": {},
     "output_type": "execute_result"
    }
   ],
   "source": [
    "data"
   ]
  },
  {
   "cell_type": "code",
   "execution_count": 6,
   "id": "002212a4",
   "metadata": {},
   "outputs": [
    {
     "data": {
      "text/plain": [
       "Index(['Created', 'Product_ID', 'Source', 'Mobile', 'EMAIL', 'Sales_Agent',\n",
       "       'Location', 'Delivery_Mode', 'Status'],\n",
       "      dtype='object')"
      ]
     },
     "execution_count": 6,
     "metadata": {},
     "output_type": "execute_result"
    }
   ],
   "source": [
    "data.columns"
   ]
  },
  {
   "cell_type": "code",
   "execution_count": 7,
   "id": "bad990f4",
   "metadata": {},
   "outputs": [
    {
     "data": {
      "text/plain": [
       "(7422, 9)"
      ]
     },
     "execution_count": 7,
     "metadata": {},
     "output_type": "execute_result"
    }
   ],
   "source": [
    "data.shape"
   ]
  },
  {
   "cell_type": "code",
   "execution_count": 8,
   "id": "4d68d2dc",
   "metadata": {},
   "outputs": [
    {
     "name": "stdout",
     "output_type": "stream",
     "text": [
      "<class 'pandas.core.frame.DataFrame'>\n",
      "RangeIndex: 7422 entries, 0 to 7421\n",
      "Data columns (total 9 columns):\n",
      " #   Column         Non-Null Count  Dtype \n",
      "---  ------         --------------  ----- \n",
      " 0   Created        7422 non-null   object\n",
      " 1   Product_ID     7422 non-null   object\n",
      " 2   Source         7422 non-null   object\n",
      " 3   Mobile         7422 non-null   object\n",
      " 4   EMAIL          7422 non-null   object\n",
      " 5   Sales_Agent    7422 non-null   object\n",
      " 6   Location       7422 non-null   object\n",
      " 7   Delivery_Mode  7422 non-null   object\n",
      " 8   Status         7422 non-null   object\n",
      "dtypes: object(9)\n",
      "memory usage: 522.0+ KB\n"
     ]
    }
   ],
   "source": [
    "data.info()"
   ]
  },
  {
   "cell_type": "code",
   "execution_count": 9,
   "id": "485093c7",
   "metadata": {},
   "outputs": [
    {
     "data": {
      "text/html": [
       "<div>\n",
       "<style scoped>\n",
       "    .dataframe tbody tr th:only-of-type {\n",
       "        vertical-align: middle;\n",
       "    }\n",
       "\n",
       "    .dataframe tbody tr th {\n",
       "        vertical-align: top;\n",
       "    }\n",
       "\n",
       "    .dataframe thead th {\n",
       "        text-align: right;\n",
       "    }\n",
       "</style>\n",
       "<table border=\"1\" class=\"dataframe\">\n",
       "  <thead>\n",
       "    <tr style=\"text-align: right;\">\n",
       "      <th></th>\n",
       "      <th>Created</th>\n",
       "      <th>Product_ID</th>\n",
       "      <th>Source</th>\n",
       "      <th>Mobile</th>\n",
       "      <th>EMAIL</th>\n",
       "      <th>Sales_Agent</th>\n",
       "      <th>Location</th>\n",
       "      <th>Delivery_Mode</th>\n",
       "      <th>Status</th>\n",
       "    </tr>\n",
       "  </thead>\n",
       "  <tbody>\n",
       "    <tr>\n",
       "      <th>count</th>\n",
       "      <td>7422</td>\n",
       "      <td>7422</td>\n",
       "      <td>7422</td>\n",
       "      <td>7422</td>\n",
       "      <td>7422</td>\n",
       "      <td>7422</td>\n",
       "      <td>7422</td>\n",
       "      <td>7422</td>\n",
       "      <td>7422</td>\n",
       "    </tr>\n",
       "    <tr>\n",
       "      <th>unique</th>\n",
       "      <td>6752</td>\n",
       "      <td>30</td>\n",
       "      <td>26</td>\n",
       "      <td>479</td>\n",
       "      <td>882</td>\n",
       "      <td>13</td>\n",
       "      <td>18</td>\n",
       "      <td>5</td>\n",
       "      <td>11</td>\n",
       "    </tr>\n",
       "    <tr>\n",
       "      <th>top</th>\n",
       "      <td>26092018 1130</td>\n",
       "      <td>18</td>\n",
       "      <td>Call</td>\n",
       "      <td></td>\n",
       "      <td>VALUE!</td>\n",
       "      <td>SalesAgent4</td>\n",
       "      <td>Other Locations</td>\n",
       "      <td>Mode5</td>\n",
       "      <td>Junk Lead</td>\n",
       "    </tr>\n",
       "    <tr>\n",
       "      <th>freq</th>\n",
       "      <td>4</td>\n",
       "      <td>1711</td>\n",
       "      <td>2547</td>\n",
       "      <td>1810</td>\n",
       "      <td>1701</td>\n",
       "      <td>1500</td>\n",
       "      <td>2500</td>\n",
       "      <td>2975</td>\n",
       "      <td>1536</td>\n",
       "    </tr>\n",
       "  </tbody>\n",
       "</table>\n",
       "</div>"
      ],
      "text/plain": [
       "              Created Product_ID Source Mobile   EMAIL  Sales_Agent  \\\n",
       "count            7422       7422   7422   7422    7422         7422   \n",
       "unique           6752         30     26    479     882           13   \n",
       "top     26092018 1130         18   Call         VALUE!  SalesAgent4   \n",
       "freq                4       1711   2547   1810    1701         1500   \n",
       "\n",
       "               Location Delivery_Mode     Status  \n",
       "count              7422          7422       7422  \n",
       "unique               18             5         11  \n",
       "top     Other Locations         Mode5  Junk Lead  \n",
       "freq               2500          2975       1536  "
      ]
     },
     "execution_count": 9,
     "metadata": {},
     "output_type": "execute_result"
    }
   ],
   "source": [
    "data.describe(include='O')"
   ]
  },
  {
   "cell_type": "markdown",
   "id": "75abf59f",
   "metadata": {},
   "source": [
    "<h1 style=\"font-family:verdana; color:#228B22; background-color:#FFFFE0;text-align: center;\">Data Preprocessing</h1>"
   ]
  },
  {
   "cell_type": "markdown",
   "id": "591b5a2a",
   "metadata": {},
   "source": [
    "* Data preprocessing is the concept of changing the raw data into a clean data set. The dataset is preprocessed in order to check missing values, noisy data, and other inconsistencies before executing it to the algorithm."
   ]
  },
  {
   "cell_type": "markdown",
   "id": "ef83da10",
   "metadata": {},
   "source": [
    "<h1 style=\"font-family:verdana; color:#FF0000; background-color:#FFFFFF;font-size:20px;text-align: left corner;\">Checking Missing Data</h1>\n"
   ]
  },
  {
   "cell_type": "markdown",
   "id": "51c564b6",
   "metadata": {},
   "source": [
    "* Missing Data can occur when no information is provided for one or more items or for a whole unit. Missing Data is a very big problem in a real-life scenarios. Missing Data can also refer to as NaN(Not an number) values. In DataFrame sometimes many datasets simply arrive with missing data, either because it exists and was not collected or it never existed."
   ]
  },
  {
   "cell_type": "code",
   "execution_count": 10,
   "id": "9bea7cb5",
   "metadata": {},
   "outputs": [
    {
     "data": {
      "text/html": [
       "<div>\n",
       "<style scoped>\n",
       "    .dataframe tbody tr th:only-of-type {\n",
       "        vertical-align: middle;\n",
       "    }\n",
       "\n",
       "    .dataframe tbody tr th {\n",
       "        vertical-align: top;\n",
       "    }\n",
       "\n",
       "    .dataframe thead th {\n",
       "        text-align: right;\n",
       "    }\n",
       "</style>\n",
       "<table border=\"1\" class=\"dataframe\">\n",
       "  <thead>\n",
       "    <tr style=\"text-align: right;\">\n",
       "      <th></th>\n",
       "      <th>Created</th>\n",
       "      <th>Product_ID</th>\n",
       "      <th>Source</th>\n",
       "      <th>Mobile</th>\n",
       "      <th>EMAIL</th>\n",
       "      <th>Sales_Agent</th>\n",
       "      <th>Location</th>\n",
       "      <th>Delivery_Mode</th>\n",
       "      <th>Status</th>\n",
       "    </tr>\n",
       "  </thead>\n",
       "  <tbody>\n",
       "    <tr>\n",
       "      <th>0</th>\n",
       "      <td>14112018 1005</td>\n",
       "      <td>NaN</td>\n",
       "      <td>Website</td>\n",
       "      <td>984XXXXXXX</td>\n",
       "      <td>aXXXXXXXgmailcom</td>\n",
       "      <td>SalesAgent11</td>\n",
       "      <td>NaN</td>\n",
       "      <td>Mode5</td>\n",
       "      <td>Open</td>\n",
       "    </tr>\n",
       "    <tr>\n",
       "      <th>1</th>\n",
       "      <td>14112018 0922</td>\n",
       "      <td>NaN</td>\n",
       "      <td>Website</td>\n",
       "      <td>XXXXXXX</td>\n",
       "      <td>VALUE!</td>\n",
       "      <td>SalesAgent10</td>\n",
       "      <td>NaN</td>\n",
       "      <td>Mode5</td>\n",
       "      <td>Open</td>\n",
       "    </tr>\n",
       "    <tr>\n",
       "      <th>2</th>\n",
       "      <td>14112018 0921</td>\n",
       "      <td>NaN</td>\n",
       "      <td>Website</td>\n",
       "      <td>XXXXXXX</td>\n",
       "      <td>dXXXXXXXyahoocom</td>\n",
       "      <td>SalesAgent10</td>\n",
       "      <td>NaN</td>\n",
       "      <td>Mode5</td>\n",
       "      <td>Open</td>\n",
       "    </tr>\n",
       "    <tr>\n",
       "      <th>3</th>\n",
       "      <td>14112018 0846</td>\n",
       "      <td>NaN</td>\n",
       "      <td>Website</td>\n",
       "      <td>XXXXXXX</td>\n",
       "      <td>wXXXXXXXgmailcom</td>\n",
       "      <td>SalesAgent10</td>\n",
       "      <td>NaN</td>\n",
       "      <td>Mode5</td>\n",
       "      <td>Open</td>\n",
       "    </tr>\n",
       "    <tr>\n",
       "      <th>4</th>\n",
       "      <td>14112018 0734</td>\n",
       "      <td>NaN</td>\n",
       "      <td>Website</td>\n",
       "      <td>XXXXXXX</td>\n",
       "      <td>cXXXXXXXgmailcom</td>\n",
       "      <td>SalesAgent10</td>\n",
       "      <td>NaN</td>\n",
       "      <td>Mode5</td>\n",
       "      <td>Open</td>\n",
       "    </tr>\n",
       "  </tbody>\n",
       "</table>\n",
       "</div>"
      ],
      "text/plain": [
       "         Created Product_ID   Source      Mobile             EMAIL  \\\n",
       "0  14112018 1005        NaN  Website  984XXXXXXX  aXXXXXXXgmailcom   \n",
       "1  14112018 0922        NaN  Website     XXXXXXX            VALUE!   \n",
       "2  14112018 0921        NaN  Website     XXXXXXX  dXXXXXXXyahoocom   \n",
       "3  14112018 0846        NaN  Website     XXXXXXX  wXXXXXXXgmailcom   \n",
       "4  14112018 0734        NaN  Website     XXXXXXX  cXXXXXXXgmailcom   \n",
       "\n",
       "    Sales_Agent Location Delivery_Mode Status  \n",
       "0  SalesAgent11      NaN         Mode5   Open  \n",
       "1  SalesAgent10      NaN         Mode5   Open  \n",
       "2  SalesAgent10      NaN         Mode5   Open  \n",
       "3  SalesAgent10      NaN         Mode5   Open  \n",
       "4  SalesAgent10      NaN         Mode5   Open  "
      ]
     },
     "execution_count": 10,
     "metadata": {},
     "output_type": "execute_result"
    }
   ],
   "source": [
    "# Replace blank spaces to nan \n",
    "data.replace('',np.nan,inplace=True)\n",
    "data.head()"
   ]
  },
  {
   "cell_type": "code",
   "execution_count": 11,
   "id": "1ee42288",
   "metadata": {
    "scrolled": true
   },
   "outputs": [
    {
     "data": {
      "text/plain": [
       "Created             0\n",
       "Product_ID         58\n",
       "Source             17\n",
       "Mobile           1810\n",
       "EMAIL               0\n",
       "Sales_Agent        23\n",
       "Location           58\n",
       "Delivery_Mode       0\n",
       "Status              0\n",
       "dtype: int64"
      ]
     },
     "execution_count": 11,
     "metadata": {},
     "output_type": "execute_result"
    }
   ],
   "source": [
    "data.isnull().sum()"
   ]
  },
  {
   "cell_type": "markdown",
   "id": "06cd9164",
   "metadata": {},
   "source": [
    "<h1 style=\"font-family:verdana; color:#228B22; background-color:#FFFFE0;text-align: center;\">Exploratory data analysis (EDA)</h1>"
   ]
  },
  {
   "cell_type": "markdown",
   "id": "850883c9",
   "metadata": {},
   "source": [
    "<h1 style=\"font-family:verdana; color:#FF0000; background-color:#FFFFFF;font-size:20px;text-align: Left Corner;\">Univarient Analysis</h1>"
   ]
  },
  {
   "cell_type": "code",
   "execution_count": 12,
   "id": "c7681bcc",
   "metadata": {},
   "outputs": [
    {
     "data": {
      "image/png": "[encoded data removed]",
      "text/plain": [
       "<Figure size 2000x1000 with 1 Axes>"
      ]
     },
     "metadata": {},
     "output_type": "display_data"
    }
   ],
   "source": [
    "plt.figure(figsize=(20,10))\n",
    "sns.set(style='whitegrid')\n",
    "sns.countplot(x='Product_ID', data=data,order=data['Product_ID'].value_counts().index)\n",
    "plt.xlabel('Product ID Number',fontsize=16)\n",
    "plt.ylabel('Total Count',fontsize=16)\n",
    "plt.xticks(fontsize=16)\n",
    "plt.yticks(fontsize=16)\n",
    "plt.title('PRODUCT ID',fontsize=16)\n",
    "plt.show()"
   ]
  },
  {
   "cell_type": "markdown",
   "id": "f501d7a5",
   "metadata": {},
   "source": [
    "<h1 style=\"font-family:verdana; color:#FF0000; background-color:#FFFFFF;font-size:20px;text-align: Left Corner;\">Obervation</h1> \n",
    "\n",
    "The plot reveals distinct sales trends among Product IDs. Notably, Product IDs 18, 15, 19, 27, 9, and 5 have excelled with notably higher sales figures. These IDs stand out as top performers, capturing a significant share of sales. In contrast, the remaining Product IDs have notably lower sales, suggesting they face challenges in sales performance. This data prompts the need for a closer examination of factors driving the success of some products while hindering others. Understanding these dynamics can inform strategic adjustments to optimize sales strategies and product offerings for improved performance."
   ]
  },
  {
   "cell_type": "code",
   "execution_count": 13,
   "id": "64db8ed8",
   "metadata": {
    "scrolled": false
   },
   "outputs": [
    {
     "data": {
      "image/png": "[encoded data removed]",
      "text/plain": [
       "<Figure size 1500x600 with 1 Axes>"
      ]
     },
     "metadata": {},
     "output_type": "display_data"
    }
   ],
   "source": [
    "plt.figure(figsize=(15,6))\n",
    "sns.set(style='whitegrid')\n",
    "sns.countplot(x='Source',data=data,order=data['Source'].value_counts().index)\n",
    "plt.xlabel('Sources',fontsize=16)\n",
    "plt.ylabel(\"Total Count\", fontsize=16)\n",
    "plt.xticks(rotation=90,fontsize=16)\n",
    "plt.yticks(fontsize=16)\n",
    "plt.title('SOURCE',fontsize=16)\n",
    "plt.show()"
   ]
  },
  {
   "cell_type": "markdown",
   "id": "bd0a9484",
   "metadata": {},
   "source": [
    "<h1 style=\"font-family:verdana; color:#FF0000; background-color:#FFFFFF;font-size:20px;text-align: Left Corner;\">Obervation</h1> \n",
    "\n",
    "The predominant sources driving sales are call, live chat direct, and website channels. These sources contribute significantly to the overall sales figures. In contrast, all other sources combined account for fewer than 250 sales, indicating their relatively minor impact on the sales process. This observation underscores the need to allocate resources and focus efforts on the more successful channels to maximize sales effectiveness."
   ]
  },
  {
   "cell_type": "code",
   "execution_count": 14,
   "id": "16b44e59",
   "metadata": {},
   "outputs": [
    {
     "data": {
      "image/png": "[encoded data removed]",
      "text/plain": [
       "<Figure size 1500x600 with 1 Axes>"
      ]
     },
     "metadata": {},
     "output_type": "display_data"
    }
   ],
   "source": [
    "plt.figure(figsize=(15, 6))\n",
    "sns.set(style='whitegrid')\n",
    "sns.countplot(x='Sales_Agent', data=data, order=data['Sales_Agent'].value_counts().index)\n",
    "plt.xlabel('Sales Persons ', fontsize=16)\n",
    "plt.ylabel('Total', fontsize=16)\n",
    "plt.xticks(rotation=90, fontsize=16)\n",
    "plt.yticks(fontsize=16)\n",
    "plt.title('SALES AGENT',fontsize=16)\n",
    "plt.show()"
   ]
  },
  {
   "cell_type": "markdown",
   "id": "404cc2c7",
   "metadata": {},
   "source": [
    "<h1 style=\"font-family:verdana; color:#FF0000; background-color:#FFFFFF;font-size:20px;text-align: Left Corner;\">Obervation</h1> \n",
    "\n",
    "In this plot, we can discern the presence of 12 sales agents. Notably, the lion's share of sales activity is attributed to sales agents 4, 11, and 5, who have significantly higher sales figures. On the other hand, sales agents 3, 9, and 7 have recorded sales below 850, indicating a comparatively lower sales performance. In contrast, the remaining sales agents have achieved fewer sales, underscoring the disparities in sales output across the team. This observation highlights the need for a deeper analysis of the strategies and performance factors contributing to the success of certain sales agents and areas of improvement for others."
   ]
  },
  {
   "cell_type": "code",
   "execution_count": 15,
   "id": "6cd665af",
   "metadata": {},
   "outputs": [
    {
     "data": {
      "image/png": "[encoded data removed]",
      "text/plain": [
       "<Figure size 1500x500 with 1 Axes>"
      ]
     },
     "metadata": {},
     "output_type": "display_data"
    }
   ],
   "source": [
    "plt.figure(figsize=(15,5))\n",
    "sns.set(style='whitegrid')\n",
    "sns.countplot(x='Location',data=data,order=data['Location'].value_counts().index)\n",
    "plt.xlabel('Cities',fontsize=16)\n",
    "plt.ylabel('Total Count',fontsize=16)\n",
    "plt.xticks(rotation=90,fontsize=16)\n",
    "plt.yticks(fontsize=16)\n",
    "plt.title('Location',fontsize=16)\n",
    "plt.show()"
   ]
  },
  {
   "cell_type": "markdown",
   "id": "a41d0d18",
   "metadata": {},
   "source": [
    "<h1 style=\"font-family:verdana; color:#FF0000; background-color:#FFFFFF;font-size:20px;text-align: Left Corner;\">Obervation</h1> \n",
    "\n",
    "In the dataset, spanning 17 sales locations, including both domestic and foreign markets, Bangalore and unspecified locales shine as top sales generators. Meanwhile, major cities like Chennai, Hyderabad, Delhi, and Mumbai report lower sales than Bangalore and the unspecified areas. The remaining cities exhibit notably meager sales. This highlights the necessity for a targeted analysis of sales strategies and market conditions in these underperforming regions. It emphasizes the importance of adapting sales approaches to individual geographic markets to enhance overall sales efficacy and tap into the full potential of diverse locations."
   ]
  },
  {
   "cell_type": "code",
   "execution_count": 16,
   "id": "d59e8e0d",
   "metadata": {},
   "outputs": [
    {
     "data": {
      "image/png": "[encoded data removed]",
      "text/plain": [
       "<Figure size 1500x500 with 1 Axes>"
      ]
     },
     "metadata": {},
     "output_type": "display_data"
    }
   ],
   "source": [
    "plt.figure(figsize=(15,5))\n",
    "sns.set(style='whitegrid')\n",
    "sns.countplot(x='Delivery_Mode',data=data,order=data['Delivery_Mode'].value_counts().index)\n",
    "plt.xlabel('Delivery Method',fontsize=16)\n",
    "plt.ylabel('Total Count',fontsize=16)\n",
    "plt.xticks(rotation=90,fontsize=16)\n",
    "plt.yticks(fontsize=16)\n",
    "plt.title('Delivery Mode',fontsize=16)\n",
    "plt.show()"
   ]
  },
  {
   "cell_type": "markdown",
   "id": "fbde7123",
   "metadata": {},
   "source": [
    "<h1 style=\"font-family:verdana; color:#FF0000; background-color:#FFFFFF;font-size:20px;text-align: Left Corner;\">Obervation</h1> \n",
    "\n",
    "In this plot, the presence of five distinct delivery modes is evident. Notably, Delivery Mode 5 stands out as the most frequently used mode, boasting the highest count among all modes. On the other hand, Modes 1 and 3 exhibit relatively lower usage compared to Mode 5. Meanwhile, Modes 2 and 4 are the least utilized for delivery, indicating their minimal presence in the dataset. This observation underscores the prevalence of Mode 5 as the preferred choice for delivery, potentially indicating its effectiveness or popularity in the context of the analyzed data, while Modes 2 and 4 appear to be less favored options."
   ]
  },
  {
   "cell_type": "code",
   "execution_count": 17,
   "id": "7abe9ab6",
   "metadata": {},
   "outputs": [
    {
     "data": {
      "image/png": "[encoded data removed]",
      "text/plain": [
       "<Figure size 1500x500 with 1 Axes>"
      ]
     },
     "metadata": {},
     "output_type": "display_data"
    }
   ],
   "source": [
    "plt.figure(figsize=(15,5))\n",
    "sns.set(style='whitegrid')\n",
    "sns.countplot(x='Status',data=data,order=data['Status'].value_counts().index)\n",
    "plt.xlabel('Status Call Responce',fontsize=16)\n",
    "plt.ylabel('Total Count',fontsize=16)\n",
    "plt.xticks(rotation=90,fontsize=16)\n",
    "plt.yticks(fontsize=16)\n",
    "plt.title('STATUS',fontsize=16)\n",
    "plt.show()"
   ]
  },
  {
   "cell_type": "markdown",
   "id": "1e0a655e",
   "metadata": {},
   "source": [
    "<h1 style=\"font-family:verdana; color:#FF0000; background-color:#FFFFFF;font-size:20px;text-align: Left Corner;\">Obervation</h1> \n",
    "\n",
    "The plot prominently reveals the prevalence of junk leads, representing customers or clients with low potential. These low-potential leads significantly outnumber other categories. In contrast, the \"Not Responding\" status customers total fewer than 1,200, indicating a smaller presence in the dataset. Consequently, this graphical representation underscores that low-potential customers dominate the dataset, while high-potential customers are comparatively scarce. This observation suggests the need to focus efforts on lead quality improvement and strategies to convert low-potential leads into high-potential prospects to maximize overall business potential."
   ]
  },
  {
   "cell_type": "markdown",
   "id": "e53d0a4e",
   "metadata": {},
   "source": [
    "<h1 style=\"font-family:verdana; color:#228B22; background-color:#FFFFE0;text-align: center;\">Fill Null Values</h1>"
   ]
  },
  {
   "cell_type": "markdown",
   "id": "88337924",
   "metadata": {},
   "source": [
    "Filling null data values is a crucial step in data preprocessing to ensure accurate analysis and modeling. Three commonly used methods for handling missing data are Mean, Mode, and Median imputation. The Mean method replaces missing values with the average of the available data points, providing a simple and effective way to maintain data integrity. The Mode method, on the other hand, replaces missing values with the most frequently occurring value within a given feature, making it particularly useful for categorical data. Lastly, Median imputation replaces missing values with the middle value in a sorted dataset, which is robust to outliers. Selecting the appropriate imputation method depends on the data type and context, and these techniques help maintain data quality and preserve valuable information for analysis and machine learning tasks."
   ]
  },
  {
   "cell_type": "markdown",
   "id": "1cf8a4ad",
   "metadata": {},
   "source": [
    "<h1 style=\"font-family:verdana; color:#FF0000; background-color:#FFFFFF;font-size:20px;text-align: Left Corner;\">Mode</h1>"
   ]
  },
  {
   "cell_type": "markdown",
   "id": "4ce3c2db",
   "metadata": {},
   "source": [
    "The mode represents the value that occurs most frequently in a dataset. In data science, the mode is often used to describe the most common category or value in a categorical dataset. It's useful for identifying the most popular product, the most frequent response in a survey, or the most common category  in a dataset. The mode is especially valuable when dealing with nominal data, such as colors or product names. The mode can be used to summarize categorical variables, while the mean and median can be calculated only for numeric variables. This is the main advantage of the mode as a measure of central tendency. It’s also useful for discrete variables and for continuous variables when they are expressed as intervals.\n"
   ]
  },
  {
   "cell_type": "markdown",
   "id": "b93a7c9b",
   "metadata": {},
   "source": [
    "#### 1. Product ID"
   ]
  },
  {
   "cell_type": "code",
   "execution_count": 18,
   "id": "9b2b6823",
   "metadata": {},
   "outputs": [
    {
     "data": {
      "text/plain": [
       "0    18\n",
       "Name: Product_ID, dtype: object"
      ]
     },
     "execution_count": 18,
     "metadata": {},
     "output_type": "execute_result"
    }
   ],
   "source": [
    "data.Product_ID.mode()"
   ]
  },
  {
   "cell_type": "code",
   "execution_count": 19,
   "id": "d410de25",
   "metadata": {},
   "outputs": [],
   "source": [
    "data.loc[data['Product_ID'].isnull()==True,'Product_ID']= 18"
   ]
  },
  {
   "cell_type": "markdown",
   "id": "98520ee5",
   "metadata": {},
   "source": [
    "#### 2. Source"
   ]
  },
  {
   "cell_type": "code",
   "execution_count": 20,
   "id": "e30cdc43",
   "metadata": {},
   "outputs": [
    {
     "data": {
      "text/plain": [
       "0    Call\n",
       "Name: Source, dtype: object"
      ]
     },
     "execution_count": 20,
     "metadata": {},
     "output_type": "execute_result"
    }
   ],
   "source": [
    "data.Source.mode()"
   ]
  },
  {
   "cell_type": "code",
   "execution_count": 21,
   "id": "34dfd341",
   "metadata": {},
   "outputs": [],
   "source": [
    "data.loc[data['Source'].isnull()==True,'Source']= 'Call'\n"
   ]
  },
  {
   "cell_type": "markdown",
   "id": "8b4d14dc",
   "metadata": {},
   "source": [
    "#### 3. Sales agent "
   ]
  },
  {
   "cell_type": "code",
   "execution_count": 22,
   "id": "f283558b",
   "metadata": {},
   "outputs": [
    {
     "data": {
      "text/plain": [
       "0    SalesAgent4\n",
       "Name: Sales_Agent, dtype: object"
      ]
     },
     "execution_count": 22,
     "metadata": {},
     "output_type": "execute_result"
    }
   ],
   "source": [
    "data.Sales_Agent.mode()"
   ]
  },
  {
   "cell_type": "code",
   "execution_count": 23,
   "id": "b982e8bf",
   "metadata": {},
   "outputs": [],
   "source": [
    "data.loc[data['Sales_Agent'].isnull()==True,'Sales_Agent']= 'SalesAgent4'"
   ]
  },
  {
   "cell_type": "markdown",
   "id": "d0e1d9e2",
   "metadata": {},
   "source": [
    "#### 4. Location"
   ]
  },
  {
   "cell_type": "code",
   "execution_count": 24,
   "id": "2376f3b7",
   "metadata": {},
   "outputs": [
    {
     "data": {
      "text/plain": [
       "0    Other Locations\n",
       "Name: Location, dtype: object"
      ]
     },
     "execution_count": 24,
     "metadata": {},
     "output_type": "execute_result"
    }
   ],
   "source": [
    "data.Location.mode()"
   ]
  },
  {
   "cell_type": "code",
   "execution_count": 25,
   "id": "e2b408f6",
   "metadata": {},
   "outputs": [],
   "source": [
    "data.loc[data['Location'].isnull()==True,'Location']= 'Other Locations'"
   ]
  },
  {
   "cell_type": "code",
   "execution_count": 26,
   "id": "b188e89a",
   "metadata": {},
   "outputs": [
    {
     "data": {
      "text/plain": [
       "Created             0\n",
       "Product_ID          0\n",
       "Source              0\n",
       "Mobile           1810\n",
       "EMAIL               0\n",
       "Sales_Agent         0\n",
       "Location            0\n",
       "Delivery_Mode       0\n",
       "Status              0\n",
       "dtype: int64"
      ]
     },
     "execution_count": 26,
     "metadata": {},
     "output_type": "execute_result"
    }
   ],
   "source": [
    "# Checking missing value after imputation\n",
    "data.isnull().sum()"
   ]
  },
  {
   "cell_type": "markdown",
   "id": "4838162d",
   "metadata": {},
   "source": [
    "<h1 style=\"font-family:verdana; color:#228B22; background-color:#FFFFE0;text-align: center;\">Data Replace</h1>"
   ]
  },
  {
   "cell_type": "markdown",
   "id": "53ea771e",
   "metadata": {},
   "source": [
    "Label compression, the act of merging or simplifying categorical data labels within a feature, is a vital data preprocessing technique. This process enhances data manageability, making it easier to analyze. For instance, merging similar shades of blue into a single category simplifies the data, prevents overfitting in machine learning models, and improves data interpretability and visualization. Nevertheless, this procedure should be approached carefully to maintain relevant information while achieving simplification. Striking the right balance between preserving key distinctions and reducing complexity is crucial for effective label compression, ultimately aiding in more streamlined and insightful data analysis."
   ]
  },
  {
   "cell_type": "code",
   "execution_count": 27,
   "id": "efecec00",
   "metadata": {},
   "outputs": [
    {
     "data": {
      "text/html": [
       "<div>\n",
       "<style scoped>\n",
       "    .dataframe tbody tr th:only-of-type {\n",
       "        vertical-align: middle;\n",
       "    }\n",
       "\n",
       "    .dataframe tbody tr th {\n",
       "        vertical-align: top;\n",
       "    }\n",
       "\n",
       "    .dataframe thead th {\n",
       "        text-align: right;\n",
       "    }\n",
       "</style>\n",
       "<table border=\"1\" class=\"dataframe\">\n",
       "  <thead>\n",
       "    <tr style=\"text-align: right;\">\n",
       "      <th></th>\n",
       "      <th>Created</th>\n",
       "      <th>Product_ID</th>\n",
       "      <th>Source</th>\n",
       "      <th>Mobile</th>\n",
       "      <th>EMAIL</th>\n",
       "      <th>Sales_Agent</th>\n",
       "      <th>Location</th>\n",
       "      <th>Delivery_Mode</th>\n",
       "      <th>Status</th>\n",
       "    </tr>\n",
       "  </thead>\n",
       "  <tbody>\n",
       "    <tr>\n",
       "      <th>0</th>\n",
       "      <td>14112018 1005</td>\n",
       "      <td>18</td>\n",
       "      <td>Website</td>\n",
       "      <td>984XXXXXXX</td>\n",
       "      <td>aXXXXXXXgmailcom</td>\n",
       "      <td>SalesAgent11</td>\n",
       "      <td>Other Locations</td>\n",
       "      <td>Mode5</td>\n",
       "      <td>Open</td>\n",
       "    </tr>\n",
       "    <tr>\n",
       "      <th>1</th>\n",
       "      <td>14112018 0922</td>\n",
       "      <td>18</td>\n",
       "      <td>Website</td>\n",
       "      <td>XXXXXXX</td>\n",
       "      <td>VALUE!</td>\n",
       "      <td>SalesAgent10</td>\n",
       "      <td>Other Locations</td>\n",
       "      <td>Mode5</td>\n",
       "      <td>Open</td>\n",
       "    </tr>\n",
       "    <tr>\n",
       "      <th>2</th>\n",
       "      <td>14112018 0921</td>\n",
       "      <td>18</td>\n",
       "      <td>Website</td>\n",
       "      <td>XXXXXXX</td>\n",
       "      <td>dXXXXXXXyahoocom</td>\n",
       "      <td>SalesAgent10</td>\n",
       "      <td>Other Locations</td>\n",
       "      <td>Mode5</td>\n",
       "      <td>Open</td>\n",
       "    </tr>\n",
       "    <tr>\n",
       "      <th>3</th>\n",
       "      <td>14112018 0846</td>\n",
       "      <td>18</td>\n",
       "      <td>Website</td>\n",
       "      <td>XXXXXXX</td>\n",
       "      <td>wXXXXXXXgmailcom</td>\n",
       "      <td>SalesAgent10</td>\n",
       "      <td>Other Locations</td>\n",
       "      <td>Mode5</td>\n",
       "      <td>Open</td>\n",
       "    </tr>\n",
       "    <tr>\n",
       "      <th>4</th>\n",
       "      <td>14112018 0734</td>\n",
       "      <td>18</td>\n",
       "      <td>Website</td>\n",
       "      <td>XXXXXXX</td>\n",
       "      <td>cXXXXXXXgmailcom</td>\n",
       "      <td>SalesAgent10</td>\n",
       "      <td>Other Locations</td>\n",
       "      <td>Mode5</td>\n",
       "      <td>Open</td>\n",
       "    </tr>\n",
       "  </tbody>\n",
       "</table>\n",
       "</div>"
      ],
      "text/plain": [
       "         Created Product_ID   Source      Mobile             EMAIL  \\\n",
       "0  14112018 1005         18  Website  984XXXXXXX  aXXXXXXXgmailcom   \n",
       "1  14112018 0922         18  Website     XXXXXXX            VALUE!   \n",
       "2  14112018 0921         18  Website     XXXXXXX  dXXXXXXXyahoocom   \n",
       "3  14112018 0846         18  Website     XXXXXXX  wXXXXXXXgmailcom   \n",
       "4  14112018 0734         18  Website     XXXXXXX  cXXXXXXXgmailcom   \n",
       "\n",
       "    Sales_Agent         Location Delivery_Mode Status  \n",
       "0  SalesAgent11  Other Locations         Mode5   Open  \n",
       "1  SalesAgent10  Other Locations         Mode5   Open  \n",
       "2  SalesAgent10  Other Locations         Mode5   Open  \n",
       "3  SalesAgent10  Other Locations         Mode5   Open  \n",
       "4  SalesAgent10  Other Locations         Mode5   Open  "
      ]
     },
     "execution_count": 27,
     "metadata": {},
     "output_type": "execute_result"
    }
   ],
   "source": [
    "data.head()"
   ]
  },
  {
   "cell_type": "markdown",
   "id": "ada59d2e",
   "metadata": {},
   "source": [
    "#### 1. Product ID"
   ]
  },
  {
   "cell_type": "code",
   "execution_count": 28,
   "id": "2a4a12e5",
   "metadata": {},
   "outputs": [],
   "source": [
    "data.Product_ID.replace(['11','22','3','17','6','8','13','24','16','23','0','28','7','4'],'minimum sold',inplace=True)"
   ]
  },
  {
   "cell_type": "markdown",
   "id": "01fc3d4e",
   "metadata": {},
   "source": [
    "#### 2. Source"
   ]
  },
  {
   "cell_type": "code",
   "execution_count": 29,
   "id": "deee8452",
   "metadata": {},
   "outputs": [],
   "source": [
    "## 1st group ---- Live chat\n",
    "\n",
    "data.Source.replace(['Live ChatDirect','Live ChatGoogle Organic','Live Chat PPC','Live ChatBlog','Live ChatCPC',\n",
    "                    'Live ChatGoogle Ads','Live ChatAdwords Remarketing','Live ChatQuora','Live ChatYoutube',\n",
    "                    'Live ChatJustdial'],'live chat',inplace=True)\n",
    "\n",
    "## 2nd group ---- new client\n",
    "\n",
    "data.Source.replace(['Existing Client','Personal Contact','CRM form','Existing Customer'],'new client',inplace=True)\n",
    "\n",
    "## 3rd group --- website\n",
    "\n",
    "data.Source.replace(['US Website','Just Dial'],'social',inplace=True)\n",
    "\n",
    "## 4th group --- recommendation\n",
    "\n",
    "data.Source.replace(['Customer Referral','By Recommendation'],'recommendation',inplace=True)\n",
    "\n",
    "## 5th group ---- campign\n",
    "data.Source.replace(['Campaign','Email Campaign','SMS Campaign','EMail Message'],'campaign',inplace=True)"
   ]
  },
  {
   "cell_type": "code",
   "execution_count": 30,
   "id": "4f7d8f95",
   "metadata": {},
   "outputs": [
    {
     "data": {
      "text/plain": [
       "live chat         2677\n",
       "Call              2564\n",
       "Website           1594\n",
       "recommendation     212\n",
       "social             193\n",
       "new client         146\n",
       "campaign            34\n",
       "Other                2\n",
       "Name: Source, dtype: int64"
      ]
     },
     "execution_count": 30,
     "metadata": {},
     "output_type": "execute_result"
    }
   ],
   "source": [
    "data.Source.value_counts()"
   ]
  },
  {
   "cell_type": "markdown",
   "id": "bbc0b024",
   "metadata": {},
   "source": [
    "#### 3. Location"
   ]
  },
  {
   "cell_type": "code",
   "execution_count": 31,
   "id": "21918891",
   "metadata": {},
   "outputs": [],
   "source": [
    "## 1st group ---- Other location\n",
    "data.Location.replace(['Trivandrum','Kolkata','Howrah'],'Other Locations',inplace=True)\n",
    "\n",
    "## 2nd group --- Asia\n",
    "data.Location.replace(['UAE','Malaysia','Singapore','USA','UK','AUSTRALIA','EUROPE'],'foreign',inplace=True)\n"
   ]
  },
  {
   "cell_type": "code",
   "execution_count": 32,
   "id": "2c1e845e",
   "metadata": {},
   "outputs": [
    {
     "data": {
      "text/plain": [
       "Other Locations    2672\n",
       "Bangalore          2084\n",
       "Chennai             909\n",
       "Hyderabad           528\n",
       "Delhi               471\n",
       "Mumbai              402\n",
       "foreign             214\n",
       "Pune                142\n",
       "Name: Location, dtype: int64"
      ]
     },
     "execution_count": 32,
     "metadata": {},
     "output_type": "execute_result"
    }
   ],
   "source": [
    "data.Location.value_counts()"
   ]
  },
  {
   "cell_type": "markdown",
   "id": "870ae0e1",
   "metadata": {},
   "source": [
    "#### 4. Status"
   ]
  },
  {
   "cell_type": "code",
   "execution_count": 33,
   "id": "dcd77672",
   "metadata": {},
   "outputs": [],
   "source": [
    "## 1st group --- low potential\n",
    "data.Status.replace(['Junk Lead','Not Responding','In Progress Negative','Just Enquiry','LOST'],'Bad',inplace=True)\n",
    "\n",
    "## 2nd group --- high potential\n",
    "data.Status.replace(['CONVERTED','Potential','Long Term','In Progress Positive','Open','converted'],'Good',inplace=True)"
   ]
  },
  {
   "cell_type": "code",
   "execution_count": 34,
   "id": "ceaab52f",
   "metadata": {},
   "outputs": [
    {
     "data": {
      "text/plain": [
       "Bad     4491\n",
       "Good    2931\n",
       "Name: Status, dtype: int64"
      ]
     },
     "execution_count": 34,
     "metadata": {},
     "output_type": "execute_result"
    }
   ],
   "source": [
    "data.Status.value_counts()"
   ]
  },
  {
   "cell_type": "code",
   "execution_count": 35,
   "id": "e1e45ea9",
   "metadata": {},
   "outputs": [
    {
     "data": {
      "text/html": [
       "<div>\n",
       "<style scoped>\n",
       "    .dataframe tbody tr th:only-of-type {\n",
       "        vertical-align: middle;\n",
       "    }\n",
       "\n",
       "    .dataframe tbody tr th {\n",
       "        vertical-align: top;\n",
       "    }\n",
       "\n",
       "    .dataframe thead th {\n",
       "        text-align: right;\n",
       "    }\n",
       "</style>\n",
       "<table border=\"1\" class=\"dataframe\">\n",
       "  <thead>\n",
       "    <tr style=\"text-align: right;\">\n",
       "      <th></th>\n",
       "      <th>Created</th>\n",
       "      <th>Product_ID</th>\n",
       "      <th>Source</th>\n",
       "      <th>Mobile</th>\n",
       "      <th>EMAIL</th>\n",
       "      <th>Sales_Agent</th>\n",
       "      <th>Location</th>\n",
       "      <th>Delivery_Mode</th>\n",
       "      <th>Status</th>\n",
       "    </tr>\n",
       "  </thead>\n",
       "  <tbody>\n",
       "    <tr>\n",
       "      <th>0</th>\n",
       "      <td>14112018 1005</td>\n",
       "      <td>18</td>\n",
       "      <td>Website</td>\n",
       "      <td>984XXXXXXX</td>\n",
       "      <td>aXXXXXXXgmailcom</td>\n",
       "      <td>SalesAgent11</td>\n",
       "      <td>Other Locations</td>\n",
       "      <td>Mode5</td>\n",
       "      <td>Good</td>\n",
       "    </tr>\n",
       "    <tr>\n",
       "      <th>1</th>\n",
       "      <td>14112018 0922</td>\n",
       "      <td>18</td>\n",
       "      <td>Website</td>\n",
       "      <td>XXXXXXX</td>\n",
       "      <td>VALUE!</td>\n",
       "      <td>SalesAgent10</td>\n",
       "      <td>Other Locations</td>\n",
       "      <td>Mode5</td>\n",
       "      <td>Good</td>\n",
       "    </tr>\n",
       "    <tr>\n",
       "      <th>2</th>\n",
       "      <td>14112018 0921</td>\n",
       "      <td>18</td>\n",
       "      <td>Website</td>\n",
       "      <td>XXXXXXX</td>\n",
       "      <td>dXXXXXXXyahoocom</td>\n",
       "      <td>SalesAgent10</td>\n",
       "      <td>Other Locations</td>\n",
       "      <td>Mode5</td>\n",
       "      <td>Good</td>\n",
       "    </tr>\n",
       "    <tr>\n",
       "      <th>3</th>\n",
       "      <td>14112018 0846</td>\n",
       "      <td>18</td>\n",
       "      <td>Website</td>\n",
       "      <td>XXXXXXX</td>\n",
       "      <td>wXXXXXXXgmailcom</td>\n",
       "      <td>SalesAgent10</td>\n",
       "      <td>Other Locations</td>\n",
       "      <td>Mode5</td>\n",
       "      <td>Good</td>\n",
       "    </tr>\n",
       "    <tr>\n",
       "      <th>4</th>\n",
       "      <td>14112018 0734</td>\n",
       "      <td>18</td>\n",
       "      <td>Website</td>\n",
       "      <td>XXXXXXX</td>\n",
       "      <td>cXXXXXXXgmailcom</td>\n",
       "      <td>SalesAgent10</td>\n",
       "      <td>Other Locations</td>\n",
       "      <td>Mode5</td>\n",
       "      <td>Good</td>\n",
       "    </tr>\n",
       "    <tr>\n",
       "      <th>...</th>\n",
       "      <td>...</td>\n",
       "      <td>...</td>\n",
       "      <td>...</td>\n",
       "      <td>...</td>\n",
       "      <td>...</td>\n",
       "      <td>...</td>\n",
       "      <td>...</td>\n",
       "      <td>...</td>\n",
       "      <td>...</td>\n",
       "    </tr>\n",
       "    <tr>\n",
       "      <th>7417</th>\n",
       "      <td>28042018 0945</td>\n",
       "      <td>9</td>\n",
       "      <td>Call</td>\n",
       "      <td>NaN</td>\n",
       "      <td>aXXXXXXXgmailcom</td>\n",
       "      <td>SalesAgent6</td>\n",
       "      <td>Mumbai</td>\n",
       "      <td>Mode4</td>\n",
       "      <td>Bad</td>\n",
       "    </tr>\n",
       "    <tr>\n",
       "      <th>7418</th>\n",
       "      <td>28042018 0943</td>\n",
       "      <td>15</td>\n",
       "      <td>Call</td>\n",
       "      <td>NaN</td>\n",
       "      <td>VALUE!</td>\n",
       "      <td>SalesAgent12</td>\n",
       "      <td>Other Locations</td>\n",
       "      <td>Mode5</td>\n",
       "      <td>Bad</td>\n",
       "    </tr>\n",
       "    <tr>\n",
       "      <th>7419</th>\n",
       "      <td>28042018 0920</td>\n",
       "      <td>5</td>\n",
       "      <td>live chat</td>\n",
       "      <td>NaN</td>\n",
       "      <td>sXXXXXXXgmailcom</td>\n",
       "      <td>SalesAgent11</td>\n",
       "      <td>Bangalore</td>\n",
       "      <td>Mode1</td>\n",
       "      <td>Bad</td>\n",
       "    </tr>\n",
       "    <tr>\n",
       "      <th>7420</th>\n",
       "      <td>28042018 0804</td>\n",
       "      <td>21</td>\n",
       "      <td>new client</td>\n",
       "      <td>NaN</td>\n",
       "      <td>YXXXXXXXgmailcom</td>\n",
       "      <td>SalesAgent4</td>\n",
       "      <td>Other Locations</td>\n",
       "      <td>Mode1</td>\n",
       "      <td>Bad</td>\n",
       "    </tr>\n",
       "    <tr>\n",
       "      <th>7421</th>\n",
       "      <td>28042018 0754</td>\n",
       "      <td>25</td>\n",
       "      <td>Website</td>\n",
       "      <td>NaN</td>\n",
       "      <td>cXXXXXXXgmailcom</td>\n",
       "      <td>SalesAgent3</td>\n",
       "      <td>Chennai</td>\n",
       "      <td>Mode1</td>\n",
       "      <td>Good</td>\n",
       "    </tr>\n",
       "  </tbody>\n",
       "</table>\n",
       "<p>7422 rows × 9 columns</p>\n",
       "</div>"
      ],
      "text/plain": [
       "            Created Product_ID      Source      Mobile             EMAIL  \\\n",
       "0     14112018 1005         18     Website  984XXXXXXX  aXXXXXXXgmailcom   \n",
       "1     14112018 0922         18     Website     XXXXXXX            VALUE!   \n",
       "2     14112018 0921         18     Website     XXXXXXX  dXXXXXXXyahoocom   \n",
       "3     14112018 0846         18     Website     XXXXXXX  wXXXXXXXgmailcom   \n",
       "4     14112018 0734         18     Website     XXXXXXX  cXXXXXXXgmailcom   \n",
       "...             ...        ...         ...         ...               ...   \n",
       "7417  28042018 0945          9        Call         NaN  aXXXXXXXgmailcom   \n",
       "7418  28042018 0943         15        Call         NaN            VALUE!   \n",
       "7419  28042018 0920          5   live chat         NaN  sXXXXXXXgmailcom   \n",
       "7420  28042018 0804         21  new client         NaN  YXXXXXXXgmailcom   \n",
       "7421  28042018 0754         25     Website         NaN  cXXXXXXXgmailcom   \n",
       "\n",
       "       Sales_Agent         Location Delivery_Mode Status  \n",
       "0     SalesAgent11  Other Locations         Mode5   Good  \n",
       "1     SalesAgent10  Other Locations         Mode5   Good  \n",
       "2     SalesAgent10  Other Locations         Mode5   Good  \n",
       "3     SalesAgent10  Other Locations         Mode5   Good  \n",
       "4     SalesAgent10  Other Locations         Mode5   Good  \n",
       "...            ...              ...           ...    ...  \n",
       "7417   SalesAgent6           Mumbai         Mode4    Bad  \n",
       "7418  SalesAgent12  Other Locations         Mode5    Bad  \n",
       "7419  SalesAgent11        Bangalore         Mode1    Bad  \n",
       "7420   SalesAgent4  Other Locations         Mode1    Bad  \n",
       "7421   SalesAgent3          Chennai         Mode1   Good  \n",
       "\n",
       "[7422 rows x 9 columns]"
      ]
     },
     "execution_count": 35,
     "metadata": {},
     "output_type": "execute_result"
    }
   ],
   "source": [
    "data"
   ]
  },
  {
   "cell_type": "markdown",
   "id": "321eaa75",
   "metadata": {},
   "source": [
    "<h1 style=\"font-family:verdana; color:#228B22; background-color:#FFFFE0;text-align: center;\">Frequency Encoding</h1>"
   ]
  },
  {
   "cell_type": "markdown",
   "id": "a1d8df50",
   "metadata": {},
   "source": [
    "Converting categorical data into numerical format is a fundamental preprocessing step for many machine learning algorithms that require numeric input. One approach to achieve this is through frequency encoding, a manual encoding method. In frequency encoding, each category in a categorical variable is replaced with its corresponding frequency or count of occurrences within the dataset. This technique assigns numeric values based on how often each category appears, thereby capturing the information about category prevalence in the data. This can be particularly useful when certain categories have varying degrees of significance, as it ensures that this information is retained in the numerical representation. However, like other encoding methods, it must be applied judiciously, considering the specific characteristics of the data and the modeling task at hand."
   ]
  },
  {
   "cell_type": "code",
   "execution_count": 36,
   "id": "277dab5b",
   "metadata": {
    "scrolled": true
   },
   "outputs": [
    {
     "data": {
      "text/plain": [
       "Index(['Created', 'Product_ID', 'Source', 'Mobile', 'EMAIL', 'Sales_Agent',\n",
       "       'Location', 'Delivery_Mode', 'Status'],\n",
       "      dtype='object')"
      ]
     },
     "execution_count": 36,
     "metadata": {},
     "output_type": "execute_result"
    }
   ],
   "source": [
    "data.columns"
   ]
  },
  {
   "cell_type": "markdown",
   "id": "6ff07337",
   "metadata": {},
   "source": [
    "#### 1. Product ID"
   ]
  },
  {
   "cell_type": "code",
   "execution_count": 37,
   "id": "89a4c85a",
   "metadata": {},
   "outputs": [
    {
     "data": {
      "text/plain": [
       "array([18, '9', '19', '18', '15', '27', '5', '2', 'minimum sold', '25',\n",
       "       '10', '20', '21', '1', '12', '26', '14'], dtype=object)"
      ]
     },
     "execution_count": 37,
     "metadata": {},
     "output_type": "execute_result"
    }
   ],
   "source": [
    "data.Product_ID.unique()"
   ]
  },
  {
   "cell_type": "code",
   "execution_count": 38,
   "id": "870f426f",
   "metadata": {},
   "outputs": [],
   "source": [
    "data.loc[data['Product_ID']=='minimum sold','Product_ID']=0"
   ]
  },
  {
   "cell_type": "markdown",
   "id": "8fd8e3b4",
   "metadata": {},
   "source": [
    "#### 2. Source"
   ]
  },
  {
   "cell_type": "code",
   "execution_count": 39,
   "id": "afb83a78",
   "metadata": {},
   "outputs": [
    {
     "data": {
      "text/plain": [
       "array(['Website', 'Call', 'live chat', 'recommendation', 'campaign',\n",
       "       'new client', 'social', 'Other'], dtype=object)"
      ]
     },
     "execution_count": 39,
     "metadata": {},
     "output_type": "execute_result"
    }
   ],
   "source": [
    "data.Source.unique()"
   ]
  },
  {
   "cell_type": "code",
   "execution_count": 40,
   "id": "e17c810b",
   "metadata": {},
   "outputs": [],
   "source": [
    "data.loc[data['Source']=='Website','Source']=7\n",
    "data.loc[data['Source']=='Call','Source']=6\n",
    "data.loc[data['Source']=='live chat','Source']=5\n",
    "data.loc[data['Source']=='recommendation','Source']=4\n",
    "data.loc[data['Source']=='campaign','Source']=3\n",
    "data.loc[data['Source']=='new client','Source']=2\n",
    "data.loc[data['Source']=='social','Source']=1\n",
    "data.loc[data['Source']=='Other','Source']=0"
   ]
  },
  {
   "cell_type": "markdown",
   "id": "256be8c1",
   "metadata": {},
   "source": [
    "#### 3. Sales Agent"
   ]
  },
  {
   "cell_type": "code",
   "execution_count": 41,
   "id": "c5a7cc1e",
   "metadata": {},
   "outputs": [
    {
     "data": {
      "text/plain": [
       "array(['SalesAgent11', 'SalesAgent10', 'SalesAgent3', 'SalesAgent4',\n",
       "       'SalesAgent9', 'SalesAgent7', 'SalesAgent8', 'SalesAgent5',\n",
       "       'SalesAgent2', 'SalesAgent12', 'SalesAgent1', 'SalesAgent6'],\n",
       "      dtype=object)"
      ]
     },
     "execution_count": 41,
     "metadata": {},
     "output_type": "execute_result"
    }
   ],
   "source": [
    "data.Sales_Agent.unique()"
   ]
  },
  {
   "cell_type": "code",
   "execution_count": 42,
   "id": "1c4beaf3",
   "metadata": {},
   "outputs": [],
   "source": [
    "data.loc[data['Sales_Agent']=='SalesAgent11','Sales_Agent']=11\n",
    "data.loc[data['Sales_Agent']=='SalesAgent10','Sales_Agent']=10\n",
    "data.loc[data['Sales_Agent']=='SalesAgent3','Sales_Agent']=9\n",
    "data.loc[data['Sales_Agent']=='SalesAgent4','Sales_Agent']=8\n",
    "data.loc[data['Sales_Agent']=='SalesAgent9','Sales_Agent']=7\n",
    "data.loc[data['Sales_Agent']=='SalesAgent7','Sales_Agent']=6\n",
    "data.loc[data['Sales_Agent']=='SalesAgent8','Sales_Agent']=5\n",
    "data.loc[data['Sales_Agent']=='SalesAgent5','Sales_Agent']=4\n",
    "data.loc[data['Sales_Agent']=='SalesAgent2','Sales_Agent']=3\n",
    "data.loc[data['Sales_Agent']=='SalesAgent12','Sales_Agent']=2\n",
    "data.loc[data['Sales_Agent']=='SalesAgent1','Sales_Agent']=1\n",
    "data.loc[data['Sales_Agent']=='SalesAgent6','Sales_Agent']=0"
   ]
  },
  {
   "cell_type": "markdown",
   "id": "65e7edc2",
   "metadata": {},
   "source": [
    "#### 4. Location"
   ]
  },
  {
   "cell_type": "code",
   "execution_count": 43,
   "id": "ebbc3c97",
   "metadata": {},
   "outputs": [
    {
     "data": {
      "text/plain": [
       "array(['Other Locations', 'Bangalore', 'foreign', 'Hyderabad', 'Chennai',\n",
       "       'Delhi', 'Mumbai', 'Pune'], dtype=object)"
      ]
     },
     "execution_count": 43,
     "metadata": {},
     "output_type": "execute_result"
    }
   ],
   "source": [
    "data.Location.unique()"
   ]
  },
  {
   "cell_type": "code",
   "execution_count": 44,
   "id": "5cf080c5",
   "metadata": {},
   "outputs": [],
   "source": [
    "data.loc[data['Location']=='Other Locations','Location']=7\n",
    "data.loc[data['Location']=='Bangalore','Location']=6\n",
    "data.loc[data['Location']=='foreign','Location']=5\n",
    "data.loc[data['Location']=='Hyderabad','Location']=4\n",
    "data.loc[data['Location']=='Chennai','Location']=3\n",
    "data.loc[data['Location']=='Delhi','Location']=2\n",
    "data.loc[data['Location']=='Mumbai','Location']=1\n",
    "data.loc[data['Location']=='Pune','Location']=0"
   ]
  },
  {
   "cell_type": "markdown",
   "id": "f64f0859",
   "metadata": {},
   "source": [
    "#### 5. Delivery Mode"
   ]
  },
  {
   "cell_type": "code",
   "execution_count": 45,
   "id": "997143f0",
   "metadata": {},
   "outputs": [
    {
     "data": {
      "text/plain": [
       "array(['Mode5', 'Mode1', 'Mode3', 'Mode2', 'Mode4'], dtype=object)"
      ]
     },
     "execution_count": 45,
     "metadata": {},
     "output_type": "execute_result"
    }
   ],
   "source": [
    "data.Delivery_Mode.unique()"
   ]
  },
  {
   "cell_type": "code",
   "execution_count": 46,
   "id": "a7b0ddc5",
   "metadata": {},
   "outputs": [],
   "source": [
    "data.loc[data['Delivery_Mode'] == 'Mode5','Delivery_Mode']=4\n",
    "data.loc[data['Delivery_Mode'] == 'Mode1','Delivery_Mode']=3\n",
    "data.loc[data['Delivery_Mode'] == 'Mode3','Delivery_Mode']=2\n",
    "data.loc[data['Delivery_Mode'] == 'Mode2','Delivery_Mode']=1\n",
    "data.loc[data['Delivery_Mode'] == 'Mode4','Delivery_Mode']=0"
   ]
  },
  {
   "cell_type": "markdown",
   "id": "4cefd5ab",
   "metadata": {},
   "source": [
    "#### 6. Status"
   ]
  },
  {
   "cell_type": "code",
   "execution_count": 47,
   "id": "dc76a050",
   "metadata": {},
   "outputs": [
    {
     "data": {
      "text/plain": [
       "array(['Good', 'Bad'], dtype=object)"
      ]
     },
     "execution_count": 47,
     "metadata": {},
     "output_type": "execute_result"
    }
   ],
   "source": [
    "data.Status.unique()"
   ]
  },
  {
   "cell_type": "code",
   "execution_count": 48,
   "id": "8d369701",
   "metadata": {},
   "outputs": [],
   "source": [
    "data.loc[data['Status']=='Good','Status']=1\n",
    "data.loc[data['Status']=='Bad','Status']=0"
   ]
  },
  {
   "cell_type": "markdown",
   "id": "684078db",
   "metadata": {},
   "source": [
    "<h1 style=\"font-family:verdana; color:#228B22; background-color:#FFFFE0;text-align: center;\">Feature Selection</h1>"
   ]
  },
  {
   "cell_type": "markdown",
   "id": "35b5a242",
   "metadata": {},
   "source": [
    "<h1 style=\"font-family:verdana; color:#FF0000; background-color:#FFFFFF;font-size:20px;text-align: Left Corner;\">Droping unique column</h1>"
   ]
  },
  {
   "cell_type": "code",
   "execution_count": 49,
   "id": "afd2137b",
   "metadata": {},
   "outputs": [],
   "source": [
    "data.drop(['Created','Mobile','EMAIL'],axis=1,inplace=True)"
   ]
  },
  {
   "cell_type": "code",
   "execution_count": 50,
   "id": "74b5973a",
   "metadata": {},
   "outputs": [
    {
     "data": {
      "text/html": [
       "<div>\n",
       "<style scoped>\n",
       "    .dataframe tbody tr th:only-of-type {\n",
       "        vertical-align: middle;\n",
       "    }\n",
       "\n",
       "    .dataframe tbody tr th {\n",
       "        vertical-align: top;\n",
       "    }\n",
       "\n",
       "    .dataframe thead th {\n",
       "        text-align: right;\n",
       "    }\n",
       "</style>\n",
       "<table border=\"1\" class=\"dataframe\">\n",
       "  <thead>\n",
       "    <tr style=\"text-align: right;\">\n",
       "      <th></th>\n",
       "      <th>Product_ID</th>\n",
       "      <th>Source</th>\n",
       "      <th>Sales_Agent</th>\n",
       "      <th>Location</th>\n",
       "      <th>Delivery_Mode</th>\n",
       "      <th>Status</th>\n",
       "    </tr>\n",
       "  </thead>\n",
       "  <tbody>\n",
       "    <tr>\n",
       "      <th>0</th>\n",
       "      <td>18</td>\n",
       "      <td>7</td>\n",
       "      <td>11</td>\n",
       "      <td>7</td>\n",
       "      <td>4</td>\n",
       "      <td>1</td>\n",
       "    </tr>\n",
       "    <tr>\n",
       "      <th>1</th>\n",
       "      <td>18</td>\n",
       "      <td>7</td>\n",
       "      <td>10</td>\n",
       "      <td>7</td>\n",
       "      <td>4</td>\n",
       "      <td>1</td>\n",
       "    </tr>\n",
       "    <tr>\n",
       "      <th>2</th>\n",
       "      <td>18</td>\n",
       "      <td>7</td>\n",
       "      <td>10</td>\n",
       "      <td>7</td>\n",
       "      <td>4</td>\n",
       "      <td>1</td>\n",
       "    </tr>\n",
       "    <tr>\n",
       "      <th>3</th>\n",
       "      <td>18</td>\n",
       "      <td>7</td>\n",
       "      <td>10</td>\n",
       "      <td>7</td>\n",
       "      <td>4</td>\n",
       "      <td>1</td>\n",
       "    </tr>\n",
       "    <tr>\n",
       "      <th>4</th>\n",
       "      <td>18</td>\n",
       "      <td>7</td>\n",
       "      <td>10</td>\n",
       "      <td>7</td>\n",
       "      <td>4</td>\n",
       "      <td>1</td>\n",
       "    </tr>\n",
       "  </tbody>\n",
       "</table>\n",
       "</div>"
      ],
      "text/plain": [
       "  Product_ID Source Sales_Agent Location Delivery_Mode Status\n",
       "0         18      7          11        7             4      1\n",
       "1         18      7          10        7             4      1\n",
       "2         18      7          10        7             4      1\n",
       "3         18      7          10        7             4      1\n",
       "4         18      7          10        7             4      1"
      ]
     },
     "execution_count": 50,
     "metadata": {},
     "output_type": "execute_result"
    }
   ],
   "source": [
    "data.head()"
   ]
  },
  {
   "cell_type": "markdown",
   "id": "ae85e0d2",
   "metadata": {},
   "source": [
    "<h1 style=\"font-family:verdana; color:#FF0000; background-color:#FFFFFF;font-size:20px;text-align: Left Corner;\">Changing datatype</h1>"
   ]
  },
  {
   "cell_type": "code",
   "execution_count": 51,
   "id": "d11f1c99",
   "metadata": {},
   "outputs": [],
   "source": [
    "data_type_dict = {'Product_ID':'int64','Source':'int64','Sales_Agent':'int64','Location':'int64','Delivery_Mode':'int64',\n",
    "             'Status':'int64'}\n",
    "\n",
    "data = data.astype(data_type_dict)"
   ]
  },
  {
   "cell_type": "code",
   "execution_count": 52,
   "id": "1de7a2ed",
   "metadata": {},
   "outputs": [
    {
     "name": "stdout",
     "output_type": "stream",
     "text": [
      "<class 'pandas.core.frame.DataFrame'>\n",
      "RangeIndex: 7422 entries, 0 to 7421\n",
      "Data columns (total 6 columns):\n",
      " #   Column         Non-Null Count  Dtype\n",
      "---  ------         --------------  -----\n",
      " 0   Product_ID     7422 non-null   int64\n",
      " 1   Source         7422 non-null   int64\n",
      " 2   Sales_Agent    7422 non-null   int64\n",
      " 3   Location       7422 non-null   int64\n",
      " 4   Delivery_Mode  7422 non-null   int64\n",
      " 5   Status         7422 non-null   int64\n",
      "dtypes: int64(6)\n",
      "memory usage: 348.0 KB\n"
     ]
    }
   ],
   "source": [
    "data.info()"
   ]
  },
  {
   "cell_type": "markdown",
   "id": "79d5a1da",
   "metadata": {},
   "source": [
    "<h1 style=\"font-family:verdana; color:#FF0000; background-color:#FFFFFF;font-size:20px;text-align: Left Corner;\">Checking correlation</h1>"
   ]
  },
  {
   "cell_type": "code",
   "execution_count": 53,
   "id": "ae396b25",
   "metadata": {},
   "outputs": [
    {
     "data": {
      "text/html": [
       "<div>\n",
       "<style scoped>\n",
       "    .dataframe tbody tr th:only-of-type {\n",
       "        vertical-align: middle;\n",
       "    }\n",
       "\n",
       "    .dataframe tbody tr th {\n",
       "        vertical-align: top;\n",
       "    }\n",
       "\n",
       "    .dataframe thead th {\n",
       "        text-align: right;\n",
       "    }\n",
       "</style>\n",
       "<table border=\"1\" class=\"dataframe\">\n",
       "  <thead>\n",
       "    <tr style=\"text-align: right;\">\n",
       "      <th></th>\n",
       "      <th>Product_ID</th>\n",
       "      <th>Source</th>\n",
       "      <th>Sales_Agent</th>\n",
       "      <th>Location</th>\n",
       "      <th>Delivery_Mode</th>\n",
       "      <th>Status</th>\n",
       "    </tr>\n",
       "  </thead>\n",
       "  <tbody>\n",
       "    <tr>\n",
       "      <th>Product_ID</th>\n",
       "      <td>1.000000</td>\n",
       "      <td>0.003859</td>\n",
       "      <td>-0.031830</td>\n",
       "      <td>-0.043363</td>\n",
       "      <td>-0.010640</td>\n",
       "      <td>0.090575</td>\n",
       "    </tr>\n",
       "    <tr>\n",
       "      <th>Source</th>\n",
       "      <td>0.003859</td>\n",
       "      <td>1.000000</td>\n",
       "      <td>0.017518</td>\n",
       "      <td>-0.023323</td>\n",
       "      <td>0.072499</td>\n",
       "      <td>-0.035320</td>\n",
       "    </tr>\n",
       "    <tr>\n",
       "      <th>Sales_Agent</th>\n",
       "      <td>-0.031830</td>\n",
       "      <td>0.017518</td>\n",
       "      <td>1.000000</td>\n",
       "      <td>-0.018872</td>\n",
       "      <td>0.175910</td>\n",
       "      <td>0.006796</td>\n",
       "    </tr>\n",
       "    <tr>\n",
       "      <th>Location</th>\n",
       "      <td>-0.043363</td>\n",
       "      <td>-0.023323</td>\n",
       "      <td>-0.018872</td>\n",
       "      <td>1.000000</td>\n",
       "      <td>0.168338</td>\n",
       "      <td>-0.081376</td>\n",
       "    </tr>\n",
       "    <tr>\n",
       "      <th>Delivery_Mode</th>\n",
       "      <td>-0.010640</td>\n",
       "      <td>0.072499</td>\n",
       "      <td>0.175910</td>\n",
       "      <td>0.168338</td>\n",
       "      <td>1.000000</td>\n",
       "      <td>-0.162865</td>\n",
       "    </tr>\n",
       "    <tr>\n",
       "      <th>Status</th>\n",
       "      <td>0.090575</td>\n",
       "      <td>-0.035320</td>\n",
       "      <td>0.006796</td>\n",
       "      <td>-0.081376</td>\n",
       "      <td>-0.162865</td>\n",
       "      <td>1.000000</td>\n",
       "    </tr>\n",
       "  </tbody>\n",
       "</table>\n",
       "</div>"
      ],
      "text/plain": [
       "               Product_ID    Source  Sales_Agent  Location  Delivery_Mode  \\\n",
       "Product_ID       1.000000  0.003859    -0.031830 -0.043363      -0.010640   \n",
       "Source           0.003859  1.000000     0.017518 -0.023323       0.072499   \n",
       "Sales_Agent     -0.031830  0.017518     1.000000 -0.018872       0.175910   \n",
       "Location        -0.043363 -0.023323    -0.018872  1.000000       0.168338   \n",
       "Delivery_Mode   -0.010640  0.072499     0.175910  0.168338       1.000000   \n",
       "Status           0.090575 -0.035320     0.006796 -0.081376      -0.162865   \n",
       "\n",
       "                 Status  \n",
       "Product_ID     0.090575  \n",
       "Source        -0.035320  \n",
       "Sales_Agent    0.006796  \n",
       "Location      -0.081376  \n",
       "Delivery_Mode -0.162865  \n",
       "Status         1.000000  "
      ]
     },
     "execution_count": 53,
     "metadata": {},
     "output_type": "execute_result"
    }
   ],
   "source": [
    "correlation_matrix=data.corr()\n",
    "correlation_matrix"
   ]
  },
  {
   "cell_type": "code",
   "execution_count": 54,
   "id": "b7aa3c63",
   "metadata": {},
   "outputs": [
    {
     "data": {
      "text/plain": [
       "(array([0.5, 1.5, 2.5, 3.5, 4.5, 5.5]),\n",
       " [Text(0, 0.5, 'Product_ID'),\n",
       "  Text(0, 1.5, 'Source'),\n",
       "  Text(0, 2.5, 'Sales_Agent'),\n",
       "  Text(0, 3.5, 'Location'),\n",
       "  Text(0, 4.5, 'Delivery_Mode'),\n",
       "  Text(0, 5.5, 'Status')])"
      ]
     },
     "execution_count": 54,
     "metadata": {},
     "output_type": "execute_result"
    },
    {
     "data": {
      "image/png": "[encoded data removed]",
      "text/plain": [
       "<Figure size 3000x3000 with 2 Axes>"
      ]
     },
     "metadata": {},
     "output_type": "display_data"
    }
   ],
   "source": [
    "plt.figure(figsize=(30, 30))#canvas size\n",
    "sns.heatmap(correlation_matrix, annot=True, cmap=\"RdYlGn\", annot_kws={\"size\":15})\n",
    "plt.xticks(fontsize=16)\n",
    "plt.yticks(fontsize=16)"
   ]
  },
  {
   "cell_type": "markdown",
   "id": "82c99843",
   "metadata": {},
   "source": [
    "<h1 style=\"font-family:verdana; color:#228B22; background-color:#FFFFE0;text-align: center;\">Save The Data</h1>"
   ]
  },
  {
   "cell_type": "code",
   "execution_count": 55,
   "id": "cf5da3b0",
   "metadata": {},
   "outputs": [],
   "source": [
    "data.to_csv(\"sales1.csv\")"
   ]
  },
  {
   "cell_type": "markdown",
   "id": "c4ec6934",
   "metadata": {},
   "source": [
    "<h1 style=\"font-family:verdana; color:#228B22; background-color:#FFFFE0;text-align: center;\">Model Creation</h1>"
   ]
  },
  {
   "cell_type": "code",
   "execution_count": 2,
   "id": "b5dc2a24",
   "metadata": {},
   "outputs": [
    {
     "data": {
      "text/html": [
       "<div>\n",
       "<style scoped>\n",
       "    .dataframe tbody tr th:only-of-type {\n",
       "        vertical-align: middle;\n",
       "    }\n",
       "\n",
       "    .dataframe tbody tr th {\n",
       "        vertical-align: top;\n",
       "    }\n",
       "\n",
       "    .dataframe thead th {\n",
       "        text-align: right;\n",
       "    }\n",
       "</style>\n",
       "<table border=\"1\" class=\"dataframe\">\n",
       "  <thead>\n",
       "    <tr style=\"text-align: right;\">\n",
       "      <th></th>\n",
       "      <th>Unnamed: 0</th>\n",
       "      <th>Product_ID</th>\n",
       "      <th>Source</th>\n",
       "      <th>Sales_Agent</th>\n",
       "      <th>Location</th>\n",
       "      <th>Delivery_Mode</th>\n",
       "      <th>Status</th>\n",
       "    </tr>\n",
       "  </thead>\n",
       "  <tbody>\n",
       "    <tr>\n",
       "      <th>0</th>\n",
       "      <td>0</td>\n",
       "      <td>18</td>\n",
       "      <td>7</td>\n",
       "      <td>11</td>\n",
       "      <td>7</td>\n",
       "      <td>4</td>\n",
       "      <td>1</td>\n",
       "    </tr>\n",
       "    <tr>\n",
       "      <th>1</th>\n",
       "      <td>1</td>\n",
       "      <td>18</td>\n",
       "      <td>7</td>\n",
       "      <td>10</td>\n",
       "      <td>7</td>\n",
       "      <td>4</td>\n",
       "      <td>1</td>\n",
       "    </tr>\n",
       "    <tr>\n",
       "      <th>2</th>\n",
       "      <td>2</td>\n",
       "      <td>18</td>\n",
       "      <td>7</td>\n",
       "      <td>10</td>\n",
       "      <td>7</td>\n",
       "      <td>4</td>\n",
       "      <td>1</td>\n",
       "    </tr>\n",
       "    <tr>\n",
       "      <th>3</th>\n",
       "      <td>3</td>\n",
       "      <td>18</td>\n",
       "      <td>7</td>\n",
       "      <td>10</td>\n",
       "      <td>7</td>\n",
       "      <td>4</td>\n",
       "      <td>1</td>\n",
       "    </tr>\n",
       "    <tr>\n",
       "      <th>4</th>\n",
       "      <td>4</td>\n",
       "      <td>18</td>\n",
       "      <td>7</td>\n",
       "      <td>10</td>\n",
       "      <td>7</td>\n",
       "      <td>4</td>\n",
       "      <td>1</td>\n",
       "    </tr>\n",
       "  </tbody>\n",
       "</table>\n",
       "</div>"
      ],
      "text/plain": [
       "   Unnamed: 0  Product_ID  Source  Sales_Agent  Location  Delivery_Mode  \\\n",
       "0           0          18       7           11         7              4   \n",
       "1           1          18       7           10         7              4   \n",
       "2           2          18       7           10         7              4   \n",
       "3           3          18       7           10         7              4   \n",
       "4           4          18       7           10         7              4   \n",
       "\n",
       "   Status  \n",
       "0       1  \n",
       "1       1  \n",
       "2       1  \n",
       "3       1  \n",
       "4       1  "
      ]
     },
     "execution_count": 2,
     "metadata": {},
     "output_type": "execute_result"
    }
   ],
   "source": [
    "df = pd.read_csv(\"sales1.csv\")\n",
    "df.head()"
   ]
  },
  {
   "cell_type": "markdown",
   "id": "eab3a3c4",
   "metadata": {},
   "source": [
    " <h1 style=\"font-family:verdana; color:#FF0000; background-color:#FFFFFF;font-size:20px;text-align: Left Corner;\">Define dependent and independent variable</h1>"
   ]
  },
  {
   "cell_type": "code",
   "execution_count": 3,
   "id": "cf4718cf",
   "metadata": {},
   "outputs": [],
   "source": [
    "x = df.iloc[:,1:6]\n",
    "y = df.Status"
   ]
  },
  {
   "cell_type": "code",
   "execution_count": 4,
   "id": "0ff2ab2f",
   "metadata": {},
   "outputs": [
    {
     "data": {
      "text/html": [
       "<div>\n",
       "<style scoped>\n",
       "    .dataframe tbody tr th:only-of-type {\n",
       "        vertical-align: middle;\n",
       "    }\n",
       "\n",
       "    .dataframe tbody tr th {\n",
       "        vertical-align: top;\n",
       "    }\n",
       "\n",
       "    .dataframe thead th {\n",
       "        text-align: right;\n",
       "    }\n",
       "</style>\n",
       "<table border=\"1\" class=\"dataframe\">\n",
       "  <thead>\n",
       "    <tr style=\"text-align: right;\">\n",
       "      <th></th>\n",
       "      <th>Product_ID</th>\n",
       "      <th>Source</th>\n",
       "      <th>Sales_Agent</th>\n",
       "      <th>Location</th>\n",
       "      <th>Delivery_Mode</th>\n",
       "    </tr>\n",
       "  </thead>\n",
       "  <tbody>\n",
       "    <tr>\n",
       "      <th>0</th>\n",
       "      <td>18</td>\n",
       "      <td>7</td>\n",
       "      <td>11</td>\n",
       "      <td>7</td>\n",
       "      <td>4</td>\n",
       "    </tr>\n",
       "    <tr>\n",
       "      <th>1</th>\n",
       "      <td>18</td>\n",
       "      <td>7</td>\n",
       "      <td>10</td>\n",
       "      <td>7</td>\n",
       "      <td>4</td>\n",
       "    </tr>\n",
       "    <tr>\n",
       "      <th>2</th>\n",
       "      <td>18</td>\n",
       "      <td>7</td>\n",
       "      <td>10</td>\n",
       "      <td>7</td>\n",
       "      <td>4</td>\n",
       "    </tr>\n",
       "    <tr>\n",
       "      <th>3</th>\n",
       "      <td>18</td>\n",
       "      <td>7</td>\n",
       "      <td>10</td>\n",
       "      <td>7</td>\n",
       "      <td>4</td>\n",
       "    </tr>\n",
       "    <tr>\n",
       "      <th>4</th>\n",
       "      <td>18</td>\n",
       "      <td>7</td>\n",
       "      <td>10</td>\n",
       "      <td>7</td>\n",
       "      <td>4</td>\n",
       "    </tr>\n",
       "  </tbody>\n",
       "</table>\n",
       "</div>"
      ],
      "text/plain": [
       "   Product_ID  Source  Sales_Agent  Location  Delivery_Mode\n",
       "0          18       7           11         7              4\n",
       "1          18       7           10         7              4\n",
       "2          18       7           10         7              4\n",
       "3          18       7           10         7              4\n",
       "4          18       7           10         7              4"
      ]
     },
     "execution_count": 4,
     "metadata": {},
     "output_type": "execute_result"
    }
   ],
   "source": [
    "x.head()"
   ]
  },
  {
   "cell_type": "code",
   "execution_count": 5,
   "id": "f88f4b88",
   "metadata": {},
   "outputs": [
    {
     "data": {
      "text/plain": [
       "0    1\n",
       "1    1\n",
       "2    1\n",
       "3    1\n",
       "4    1\n",
       "Name: Status, dtype: int64"
      ]
     },
     "execution_count": 5,
     "metadata": {},
     "output_type": "execute_result"
    }
   ],
   "source": [
    "y.head()"
   ]
  },
  {
   "cell_type": "markdown",
   "id": "d613c480",
   "metadata": {},
   "source": [
    "<h1 style=\"font-family:verdana; color:#FF0000; background-color:#FFFFFF;font-size:20px;text-align: Left Corner;\">Blanceing the target</h1>"
   ]
  },
  {
   "cell_type": "code",
   "execution_count": 6,
   "id": "f248c84a",
   "metadata": {},
   "outputs": [
    {
     "data": {
      "text/plain": [
       "0    4491\n",
       "1    2931\n",
       "Name: Status, dtype: int64"
      ]
     },
     "execution_count": 6,
     "metadata": {},
     "output_type": "execute_result"
    }
   ],
   "source": [
    "df.Status.value_counts()"
   ]
  },
  {
   "cell_type": "code",
   "execution_count": 7,
   "id": "be3642c8",
   "metadata": {},
   "outputs": [
    {
     "ename": "NameError",
     "evalue": "name 'data' is not defined",
     "output_type": "error",
     "traceback": [
      "\u001b[1;31m---------------------------------------------------------------------------\u001b[0m",
      "\u001b[1;31mNameError\u001b[0m                                 Traceback (most recent call last)",
      "\u001b[1;32m~\\AppData\\Local\\Temp\\ipykernel_12744\\4254085268.py\u001b[0m in \u001b[0;36m<module>\u001b[1;34m\u001b[0m\n\u001b[1;32m----> 1\u001b[1;33m \u001b[0msns\u001b[0m\u001b[1;33m.\u001b[0m\u001b[0mcountplot\u001b[0m\u001b[1;33m(\u001b[0m\u001b[0mdata\u001b[0m\u001b[1;33m.\u001b[0m\u001b[0mStatus\u001b[0m\u001b[1;33m)\u001b[0m\u001b[1;33m\u001b[0m\u001b[1;33m\u001b[0m\u001b[0m\n\u001b[0m\u001b[0;32m      2\u001b[0m \u001b[0mplt\u001b[0m\u001b[1;33m.\u001b[0m\u001b[0mshow\u001b[0m\u001b[1;33m(\u001b[0m\u001b[1;33m)\u001b[0m\u001b[1;33m\u001b[0m\u001b[1;33m\u001b[0m\u001b[0m\n",
      "\u001b[1;31mNameError\u001b[0m: name 'data' is not defined"
     ]
    }
   ],
   "source": [
    "sns.countplot(data.Status)\n",
    "plt.show()"
   ]
  },
  {
   "cell_type": "code",
   "execution_count": 8,
   "id": "61cdac4f",
   "metadata": {},
   "outputs": [
    {
     "name": "stdout",
     "output_type": "stream",
     "text": [
      "unbalanced data Counter({0: 4491, 1: 2931})\n",
      "Balanced data Counter({1: 4491, 0: 4491})\n"
     ]
    }
   ],
   "source": [
    "# balancing data\n",
    "from collections import Counter\n",
    "from imblearn.over_sampling import SMOTE\n",
    "sm = SMOTE() #object creation\n",
    "print(\"unbalanced data\",Counter(y))\n",
    "X_sm,y_sm = sm.fit_resample(x,y)\n",
    "print('Balanced data',Counter(y_sm))"
   ]
  },
  {
   "cell_type": "markdown",
   "id": "ae2fc7e3",
   "metadata": {},
   "source": [
    "<h1 style=\"font-family:verdana; color:#FF0000; background-color:#FFFFFF;font-size:20px;text-align: Left Corner;\">Split the data</h1>"
   ]
  },
  {
   "cell_type": "code",
   "execution_count": 9,
   "id": "37064f1d",
   "metadata": {},
   "outputs": [],
   "source": [
    "from sklearn.model_selection import train_test_split\n",
    "x_train,x_test,y_train,y_test = train_test_split(X_sm,y_sm,test_size=0.2,random_state=42)"
   ]
  },
  {
   "cell_type": "code",
   "execution_count": 10,
   "id": "46c8b636",
   "metadata": {},
   "outputs": [
    {
     "data": {
      "text/plain": [
       "(7185, 5)"
      ]
     },
     "execution_count": 10,
     "metadata": {},
     "output_type": "execute_result"
    }
   ],
   "source": [
    "x_train.shape"
   ]
  },
  {
   "cell_type": "code",
   "execution_count": 11,
   "id": "e15c0646",
   "metadata": {},
   "outputs": [
    {
     "data": {
      "text/plain": [
       "(1797, 5)"
      ]
     },
     "execution_count": 11,
     "metadata": {},
     "output_type": "execute_result"
    }
   ],
   "source": [
    "x_test.shape"
   ]
  },
  {
   "cell_type": "code",
   "execution_count": 12,
   "id": "ab0ea9f5",
   "metadata": {},
   "outputs": [
    {
     "data": {
      "text/plain": [
       "(7185,)"
      ]
     },
     "execution_count": 12,
     "metadata": {},
     "output_type": "execute_result"
    }
   ],
   "source": [
    "y_train.shape"
   ]
  },
  {
   "cell_type": "code",
   "execution_count": 13,
   "id": "b1fb1081",
   "metadata": {},
   "outputs": [
    {
     "data": {
      "text/plain": [
       "(1797,)"
      ]
     },
     "execution_count": 13,
     "metadata": {},
     "output_type": "execute_result"
    }
   ],
   "source": [
    "y_test.shape"
   ]
  },
  {
   "cell_type": "code",
   "execution_count": 14,
   "id": "70f19784",
   "metadata": {},
   "outputs": [],
   "source": [
    "# Import library\n",
    "from sklearn.metrics import accuracy_score,f1_score,recall_score,precision_score,classification_report,confusion_matrix\n"
   ]
  },
  {
   "cell_type": "markdown",
   "id": "9fdb7d90",
   "metadata": {},
   "source": [
    "<h1 style=\"font-family:verdana; color:#228B22; background-color:#FFFFE0;text-align: center;\">Logistic Regression</h1>"
   ]
  },
  {
   "cell_type": "code",
   "execution_count": 68,
   "id": "f8354e9c",
   "metadata": {},
   "outputs": [],
   "source": [
    "# Step:1 importing library\n",
    "from sklearn.linear_model import LogisticRegression\n",
    "\n",
    "# Step:2 Object creation\n",
    "log_reg = LogisticRegression()\n",
    "\n",
    "# Step:3 fitting the training data\n",
    "log_reg.fit(x_train,y_train)\n",
    "\n",
    "# Step:4 Prediction on test data\n",
    "log_test_predict = log_reg.predict(x_test)\n",
    "\n",
    "# Step:5 Prediction on training data\n",
    "log_train_predict = log_reg.predict(x_train)"
   ]
  },
  {
   "cell_type": "markdown",
   "id": "6e59c17c",
   "metadata": {},
   "source": [
    "<h1 style=\"font-family:Times New Roman; color:#FF0000; background-color:#FFFFFF;text-align: Left Corner;\">Training Score</h1>"
   ]
  },
  {
   "cell_type": "code",
   "execution_count": 69,
   "id": "16093a57",
   "metadata": {
    "scrolled": true
   },
   "outputs": [
    {
     "name": "stdout",
     "output_type": "stream",
     "text": [
      "Training accuracy of Logistic regression model:  59.03966597077245\n",
      "Training precision of Logistic regression model:  57.11079943899018\n",
      "Training recall of Logistic regression model:  59.014492753623195\n",
      "Training f1 score of Logistic regression model:  58.04704205274411\n",
      "Training confusion matrix of Logistic regression model: \n",
      " [[2206 1529]\n",
      " [1414 2036]]\n",
      "Logistic regression training Classification report: \n",
      "               precision    recall  f1-score   support\n",
      "\n",
      "           0       0.61      0.59      0.60      3735\n",
      "           1       0.57      0.59      0.58      3450\n",
      "\n",
      "    accuracy                           0.59      7185\n",
      "   macro avg       0.59      0.59      0.59      7185\n",
      "weighted avg       0.59      0.59      0.59      7185\n",
      "\n"
     ]
    }
   ],
   "source": [
    "log_train_accuracy = accuracy_score(log_train_predict,y_train)\n",
    "log_train_precision = precision_score(log_train_predict, y_train)\n",
    "log_train_recall = recall_score(log_train_predict, y_train)\n",
    "log_train_f1 = f1_score(log_train_predict, y_train)\n",
    "log_train_confusion = confusion_matrix(log_train_predict, y_train)\n",
    "log_train_report = classification_report(log_train_predict,y_train)\n",
    "\n",
    "\n",
    "print(\"Training accuracy of Logistic regression model: \",log_train_accuracy*100)\n",
    "print(\"Training precision of Logistic regression model: \", log_train_precision*100)\n",
    "print(\"Training recall of Logistic regression model: \", log_train_recall*100)\n",
    "print(\"Training f1 score of Logistic regression model: \", log_train_f1*100)\n",
    "print(\"Training confusion matrix of Logistic regression model: \\n\",log_train_confusion)\n",
    "print(\"Logistic regression training Classification report: \\n\",log_train_report)"
   ]
  },
  {
   "cell_type": "markdown",
   "id": "6d6e1009",
   "metadata": {},
   "source": [
    "<h1 style=\"font-family:Times New Roman; color:#FF0000; background-color:#FFFFFF;text-align: Left Corner;\">Testing Score</h1>"
   ]
  },
  {
   "cell_type": "code",
   "execution_count": 70,
   "id": "b1bc2688",
   "metadata": {},
   "outputs": [
    {
     "name": "stdout",
     "output_type": "stream",
     "text": [
      "Testing accuracy of Logistic regression model:  59.654980523094046\n",
      "Testing precision of Logistic regression model:  57.12742980561555\n",
      "Testing recall of Logistic regression model:  61.726954492415395\n",
      "Testing f1 score of Logistic regression model:  59.338194054963544\n",
      "Testing confusion matrix of Logistic regression model: \n",
      " [[543 397]\n",
      " [328 529]]\n",
      "Logistic regression Testing Classification report: \n",
      "               precision    recall  f1-score   support\n",
      "\n",
      "           0       0.62      0.58      0.60       940\n",
      "           1       0.57      0.62      0.59       857\n",
      "\n",
      "    accuracy                           0.60      1797\n",
      "   macro avg       0.60      0.60      0.60      1797\n",
      "weighted avg       0.60      0.60      0.60      1797\n",
      "\n"
     ]
    }
   ],
   "source": [
    "log_test_accuracy = accuracy_score(log_test_predict,y_test)\n",
    "log_test_precision = precision_score(log_test_predict, y_test)\n",
    "log_test_recall = recall_score(log_test_predict, y_test)\n",
    "log_test_f1 = f1_score(log_test_predict, y_test)\n",
    "log_test_confusion = confusion_matrix(log_test_predict, y_test)\n",
    "log_test_report = classification_report(log_test_predict,y_test)\n",
    "\n",
    "\n",
    "print(\"Testing accuracy of Logistic regression model: \",log_test_accuracy*100)\n",
    "print(\"Testing precision of Logistic regression model: \", log_test_precision*100)\n",
    "print(\"Testing recall of Logistic regression model: \", log_test_recall*100)\n",
    "print(\"Testing f1 score of Logistic regression model: \", log_test_f1*100)\n",
    "print(\"Testing confusion matrix of Logistic regression model: \\n\",log_test_confusion)\n",
    "print(\"Logistic regression Testing Classification report: \\n\",log_test_report)"
   ]
  },
  {
   "cell_type": "markdown",
   "id": "01063721",
   "metadata": {},
   "source": [
    "<h1 style=\"font-family:verdana; color:#228B22; background-color:#FFFFE0;text-align: center;\">K-Nearest Neighbors(KNN)</h1>"
   ]
  },
  {
   "cell_type": "code",
   "execution_count": 73,
   "id": "ab561104",
   "metadata": {},
   "outputs": [],
   "source": [
    "# Step:3 Get nearst neighbors\n",
    "knn1 = KNeighborsClassifier(n_neighbors=4)\n",
    "\n",
    "# Step:4 Fitting the training data\n",
    "knn1.fit(x_train,y_train)\n",
    "\n",
    "# Step:5 Prediction on testing data\n",
    "knn_test_predict = knn1.predict(x_test)\n",
    "\n",
    "# Step:6 Prediction on training data\n",
    "knn_train_predict = knn1.predict(x_train)\n"
   ]
  },
  {
   "cell_type": "markdown",
   "id": "66279026",
   "metadata": {},
   "source": [
    "<h1 style=\"font-family:Times New Roman; color:#FF0000; background-color:#FFFFFF;text-align: Left Corner;\">Training Score</h1>"
   ]
  },
  {
   "cell_type": "code",
   "execution_count": 74,
   "id": "9417128a",
   "metadata": {},
   "outputs": [
    {
     "name": "stdout",
     "output_type": "stream",
     "text": [
      "Training accuracy of K-Nearest Neighbors model:  77.80097425191371\n",
      "Training precision of K-Nearest Neighbors model:  70.71528751753155\n",
      "Training recall of K-Nearest Neighbors model:  82.06380208333334\n",
      "Training f1 score of K-Nearest Neighbors model:  75.96805785746571\n",
      "Training confusion matrix of K-Nearest Neighbors model: \n",
      " [[3069 1044]\n",
      " [ 551 2521]]\n",
      "K-Nearest Neighbors training Classification report: \n",
      "               precision    recall  f1-score   support\n",
      "\n",
      "           0       0.85      0.75      0.79      4113\n",
      "           1       0.71      0.82      0.76      3072\n",
      "\n",
      "    accuracy                           0.78      7185\n",
      "   macro avg       0.78      0.78      0.78      7185\n",
      "weighted avg       0.79      0.78      0.78      7185\n",
      "\n"
     ]
    }
   ],
   "source": [
    "knn_train_accuracy = accuracy_score(knn_train_predict,y_train)\n",
    "knn_train_precision = precision_score(knn_train_predict, y_train)\n",
    "knn_train_recall = recall_score(knn_train_predict, y_train)\n",
    "knn_train_f1 = f1_score(knn_train_predict, y_train)\n",
    "knn_train_confusion = confusion_matrix(knn_train_predict, y_train)\n",
    "knn_train_report = classification_report(knn_train_predict,y_train)\n",
    "\n",
    "\n",
    "print(\"Training accuracy of K-Nearest Neighbors model: \",knn_train_accuracy*100)\n",
    "print(\"Training precision of K-Nearest Neighbors model: \", knn_train_precision*100)\n",
    "print(\"Training recall of K-Nearest Neighbors model: \", knn_train_recall*100)\n",
    "print(\"Training f1 score of K-Nearest Neighbors model: \", knn_train_f1*100)\n",
    "print(\"Training confusion matrix of K-Nearest Neighbors model: \\n\",knn_train_confusion)\n",
    "print(\"K-Nearest Neighbors training Classification report: \\n\",knn_train_report)"
   ]
  },
  {
   "cell_type": "markdown",
   "id": "565d32d7",
   "metadata": {},
   "source": [
    "<h1 style=\"font-family:Times New Roman; color:#FF0000; background-color:#FFFFFF;text-align: Left Corner;\">Testing Score</h1>"
   ]
  },
  {
   "cell_type": "code",
   "execution_count": 75,
   "id": "25bf39b7",
   "metadata": {},
   "outputs": [
    {
     "name": "stdout",
     "output_type": "stream",
     "text": [
      "Testing accuracy of K-Nearest Neighbors model:  70.39510294936005\n",
      "Testing precision of K-Nearest Neighbors model:  61.87904967602592\n",
      "Testing recall of K-Nearest Neighbors model:  76.1968085106383\n",
      "Testing f1 score of K-Nearest Neighbors model:  68.29558998808106\n",
      "Testing confusion matrix of K-Nearest Neighbors model: \n",
      " [[692 353]\n",
      " [179 573]]\n",
      "K-Nearest Neighbors Testing Classification report: \n",
      "               precision    recall  f1-score   support\n",
      "\n",
      "           0       0.79      0.66      0.72      1045\n",
      "           1       0.62      0.76      0.68       752\n",
      "\n",
      "    accuracy                           0.70      1797\n",
      "   macro avg       0.71      0.71      0.70      1797\n",
      "weighted avg       0.72      0.70      0.71      1797\n",
      "\n"
     ]
    }
   ],
   "source": [
    "knn_test_accuracy = accuracy_score(knn_test_predict,y_test)\n",
    "knn_test_precision = precision_score(knn_test_predict, y_test)\n",
    "knn_test_recall = recall_score(knn_test_predict, y_test)\n",
    "knn_test_f1 = f1_score(knn_test_predict, y_test)\n",
    "knn_test_confusion = confusion_matrix(knn_test_predict, y_test)\n",
    "knn_test_report = classification_report(knn_test_predict,y_test)\n",
    "\n",
    "\n",
    "print(\"Testing accuracy of K-Nearest Neighbors model: \",knn_test_accuracy*100)\n",
    "print(\"Testing precision of K-Nearest Neighbors model: \", knn_test_precision*100)\n",
    "print(\"Testing recall of K-Nearest Neighbors model: \", knn_test_recall*100)\n",
    "print(\"Testing f1 score of K-Nearest Neighbors model: \", knn_test_f1*100)\n",
    "print(\"Testing confusion matrix of K-Nearest Neighbors model: \\n\",knn_test_confusion)\n",
    "print(\"K-Nearest Neighbors Testing Classification report: \\n\",knn_test_report)"
   ]
  },
  {
   "cell_type": "markdown",
   "id": "4017b8ca",
   "metadata": {},
   "source": [
    "<h1 style=\"font-family:Times New Roman; color:#FF0000; background-color:#FFFFFF;text-align: Left Corner;\">Bagging Score</h1>"
   ]
  },
  {
   "cell_type": "markdown",
   "id": "909f5389",
   "metadata": {},
   "source": [
    "* Bagging, also known as bootstrap aggregation, is the ensemble learning method that is commonly used to reduce variance within a noisy dataset. In bagging, a random sample of data in a training set is selected with replacement—meaning that the individual data points can be chosen more than once. After several data samples are generated, these weak models are then trained independently, and depending on the type of task—regression or classification, for example—the average or majority of those predictions yield a more accurate estimate. \n",
    "\n",
    "How bagging works:-\n",
    "\n",
    "1. Bootstrapping:  Bagging leverages a bootstrapping sampling technique to create diverse samples. This resampling method generates different subsets of the training dataset by selecting data points at random and with replacement. This means that each time you select a data point from the training dataset, you are able to select the same instance multiple times. As a result, a value/instance repeated twice (or more) in a sample.\n",
    "\n",
    "2. Parallel training: These bootstrap samples are then trained independently and in parallel with each other using weak or base learners.\n",
    "\n",
    "3. Aggregation: Finally, depending on the task (i.e. regression or classification), an average or a majority of the predictions are taken to compute a more accurate estimate. In the case of regression, an average is taken of all the outputs predicted by the individual classifiers; this is known as soft voting. For classification problems, the class with the highest majority of votes is accepted; this is known as hard voting or majority voting."
   ]
  },
  {
   "cell_type": "code",
   "execution_count": 76,
   "id": "8116bb1a",
   "metadata": {},
   "outputs": [],
   "source": [
    "# step:1 Create a K-neighbour classifier object\n",
    "knn1 = KNeighborsClassifier(n_neighbors=3)\n",
    "\n",
    "# Step:2 importing library and creating bagging object\n",
    "from sklearn.ensemble import BaggingClassifier\n",
    "bagg = BaggingClassifier(base_estimator=knn1,n_estimators=50)\n",
    "#base_estimator---> algorithm which you want to pass\n",
    "#n_estimotors-----> number of base learners\n",
    "\n",
    "# Step:3 Fitting the training data\n",
    "bagg.fit(x_train,y_train)\n",
    "\n",
    "# Step:4 Prediction on test data\n",
    "bagg_predict = bagg.predict(x_test)"
   ]
  },
  {
   "cell_type": "markdown",
   "id": "797272e9",
   "metadata": {},
   "source": [
    "<h1 style=\"font-family:Times New Roman; color:#FF0000; background-color:#FFFFFF;text-align: Left Corner;\">Testing after Bagging Score</h1>"
   ]
  },
  {
   "cell_type": "code",
   "execution_count": 77,
   "id": "b23cec48",
   "metadata": {},
   "outputs": [
    {
     "name": "stdout",
     "output_type": "stream",
     "text": [
      "Score after bagging for accuracy :  72.45409015025042\n",
      "Score after bagging for precision :  74.73002159827213\n",
      "Score after bagging for recall :  72.61280167890871\n",
      "Score after bagging for f1 score :  73.6562001064396\n"
     ]
    }
   ],
   "source": [
    "bagg_accuracy = accuracy_score(bagg_predict,y_test)\n",
    "bagg_precision = precision_score(bagg_predict, y_test)\n",
    "bagg_recall = recall_score(bagg_predict, y_test)\n",
    "bagg_f1 = f1_score(bagg_predict, y_test)\n",
    "\n",
    "print(\"Score after bagging for accuracy : \",bagg_accuracy*100)\n",
    "print(\"Score after bagging for precision : \", bagg_precision*100)\n",
    "print(\"Score after bagging for recall : \", bagg_recall*100)\n",
    "print(\"Score after bagging for f1 score : \", bagg_f1*100)"
   ]
  },
  {
   "cell_type": "markdown",
   "id": "b7e3d768",
   "metadata": {},
   "source": [
    "<h1 style=\"font-family:verdana; color:#228B22; background-color:#FFFFE0;text-align: center;\">Decision Tree Classifier</h1>"
   ]
  },
  {
   "cell_type": "code",
   "execution_count": 78,
   "id": "8b525ca5",
   "metadata": {},
   "outputs": [],
   "source": [
    "# Step:1 Importing library and object creation\n",
    "from sklearn.tree import DecisionTreeClassifier\n",
    "\n",
    "dtc = DecisionTreeClassifier()\n",
    "\n",
    "# Step:2 fitting training data\n",
    "dtc.fit(x_train,y_train)\n",
    "\n",
    "# Step:3 Prediction on test data\n",
    "dtc_test_predict = dtc.predict(x_test)\n",
    "\n",
    "# Step:4 Prediction on training data\n",
    "dtc_train_predict = dtc.predict(x_train)"
   ]
  },
  {
   "cell_type": "markdown",
   "id": "082628d0",
   "metadata": {},
   "source": [
    "<h1 style=\"font-family:Times New Roman; color:#FF0000; background-color:#FFFFFF;text-align: Left Corner;\">Training Score</h1>"
   ]
  },
  {
   "cell_type": "code",
   "execution_count": 79,
   "id": "063eec1a",
   "metadata": {},
   "outputs": [
    {
     "name": "stdout",
     "output_type": "stream",
     "text": [
      "Training accuracy of decision tree classifier model:  84.05010438413362\n",
      "Training precision of decision tree classifier model:  84.1234221598878\n",
      "Training recall of decision tree classifier model:  83.79435596535345\n",
      "Training f1 score of decision tree classifier model:  83.9585666293393\n",
      "Training confusion matrix of decision tree classifier model: \n",
      " [[3040  566]\n",
      " [ 580 2999]]\n",
      "decision tree classifier training Classification report: \n",
      "               precision    recall  f1-score   support\n",
      "\n",
      "           0       0.84      0.84      0.84      3606\n",
      "           1       0.84      0.84      0.84      3579\n",
      "\n",
      "    accuracy                           0.84      7185\n",
      "   macro avg       0.84      0.84      0.84      7185\n",
      "weighted avg       0.84      0.84      0.84      7185\n",
      "\n"
     ]
    }
   ],
   "source": [
    "dtc_train_accuracy = accuracy_score(dtc_train_predict,y_train)\n",
    "dtc_train_precision = precision_score(dtc_train_predict, y_train)\n",
    "dtc_train_recall = recall_score(dtc_train_predict, y_train)\n",
    "dtc_train_f1 = f1_score(dtc_train_predict, y_train)\n",
    "dtc_train_confusion = confusion_matrix(dtc_train_predict, y_train)\n",
    "dtc_train_report = classification_report(dtc_train_predict,y_train)\n",
    "print(\"Training accuracy of decision tree classifier model: \",dtc_train_accuracy*100)\n",
    "print(\"Training precision of decision tree classifier model: \", dtc_train_precision*100)\n",
    "print(\"Training recall of decision tree classifier model: \", dtc_train_recall*100)\n",
    "print(\"Training f1 score of decision tree classifier model: \", dtc_train_f1*100)\n",
    "print(\"Training confusion matrix of decision tree classifier model: \\n\",dtc_train_confusion)\n",
    "print(\"decision tree classifier training Classification report: \\n\",dtc_train_report)"
   ]
  },
  {
   "cell_type": "markdown",
   "id": "7e01b08f",
   "metadata": {},
   "source": [
    "<h1 style=\"font-family:Times New Roman; color:#FF0000; background-color:#FFFFFF;text-align: Left Corner;\">Testing Score</h1>"
   ]
  },
  {
   "cell_type": "code",
   "execution_count": 80,
   "id": "a04af506",
   "metadata": {},
   "outputs": [
    {
     "name": "stdout",
     "output_type": "stream",
     "text": [
      "Testing accuracy of decision tree classifier model:  72.17584863661658\n",
      "Testing precision of decision tree classifier model:  70.3023758099352\n",
      "Testing recall of decision tree classifier model:  74.31506849315068\n",
      "Testing f1 score of decision tree classifier model:  72.25305216426193\n",
      "Testing confusion matrix of decision tree classifier model: \n",
      " [[646 275]\n",
      " [225 651]]\n",
      "decision tree classifier Testing Classification report: \n",
      "               precision    recall  f1-score   support\n",
      "\n",
      "           0       0.74      0.70      0.72       921\n",
      "           1       0.70      0.74      0.72       876\n",
      "\n",
      "    accuracy                           0.72      1797\n",
      "   macro avg       0.72      0.72      0.72      1797\n",
      "weighted avg       0.72      0.72      0.72      1797\n",
      "\n"
     ]
    }
   ],
   "source": [
    "dtc_test_accuracy = accuracy_score(dtc_test_predict,y_test)\n",
    "dtc_test_precision = precision_score(dtc_test_predict, y_test)\n",
    "dtc_test_recall = recall_score(dtc_test_predict, y_test)\n",
    "dtc_test_f1 = f1_score(dtc_test_predict, y_test)\n",
    "dtc_test_confusion = confusion_matrix(dtc_test_predict, y_test)\n",
    "dtc_test_report = classification_report(dtc_test_predict,y_test)\n",
    "\n",
    "\n",
    "print(\"Testing accuracy of decision tree classifier model: \",dtc_test_accuracy*100)\n",
    "print(\"Testing precision of decision tree classifier model: \", dtc_test_precision*100)\n",
    "print(\"Testing recall of decision tree classifier model: \", dtc_test_recall*100)\n",
    "print(\"Testing f1 score of decision tree classifier model: \", dtc_test_f1*100)\n",
    "print(\"Testing confusion matrix of decision tree classifier model: \\n\",dtc_test_confusion)\n",
    "print(\"decision tree classifier Testing Classification report: \\n\",dtc_test_report)"
   ]
  },
  {
   "cell_type": "markdown",
   "id": "33eb73ed",
   "metadata": {},
   "source": [
    "<h1 style=\"font-family:Times New Roman; color:#FF0000; background-color:#FFFFFF;text-align: Left Corner;\">Hyperparameter</h1>"
   ]
  },
  {
   "cell_type": "markdown",
   "id": "7323b952",
   "metadata": {},
   "source": [
    "* Hyperparameters are external configuration variables that data scientists use to manage machine learning model training. Sometimes called model hyperparameters, the hyperparameters are manually set before training a model. They're different from parameters, which are internal parameters automatically derived during the learning process and not set by data scientists.\n",
    "* Examples of hyperparameters include the number of nodes and layers in a neural network and the number of branches in a decision tree. Hyperparameters determine key features such as model architecture, learning rate, and model complexity.\n",
    "\n",
    "Hyperparameter Tunning:\n",
    "* When you’re training machine learning models, each dataset and model needs a different set of hyperparameters, which are a kind of variable. The only way to determine these is through multiple experiments, where you pick a set of hyperparameters and run them through your model. This is called hyperparameter tuning. In essence, you're training your model sequentially with different sets of hyperparameters. This process can be manual, or you can pick one of several automated hyperparameter tuning methods.\n",
    "\n",
    "* Whichever method you use, you need to track the results of your experiments. You’ll have to apply some form of statistical analysis, such as the loss function, to determine which set of hyperparameters gives the best result. Hyperparameter tuning is an important and computationally intensive process.\n",
    "\n",
    "I would be explaining following approaches to Hyperparameter tuning:\n",
    "\n",
    "1. Manual Search\n",
    "2. Random Search\n",
    "3. Grid Search\n",
    "\n",
    "\n",
    "1. Manual Search:\n",
    "* While using manual search, we select some hyperparameters for a model based on our gut feeling and experience. Based on these parameters, the model is trained, and model performance measures are checked. This process is repeated with another set of values for the same hyperparameters until optimal accuracy is received, or the model has attained optimal error.\n",
    "* This might not be of much help as human judgment is biased, and here human experience is playing a significant role. \n",
    "\n",
    "2. Random Search:\n",
    "* Though manual search is an iterative process, each time a specific value is given for hyperparameters to acquire optimal model performance measures, it is an exhaustive approach. Instead of doing multiple rounds of this process, it would be better to give multiple values for all the hyperparameters in one go to the model and let the model decide which one best suits. Those who are aware of hyperparameter tuning might say that I am talking about grid search, but no, this is slightly different. Out of the values mentioned, the model randomly makes combinations of its own and tries to fit the dataset and test the accuracy. Here, chances are there to miss on a few combinations which could have been optimal ones. Although, random search consumes quite less amount of time and most of the time it gives optimal solutions as well. So, in that case, it is a win-win situation.\n",
    "\n",
    "3. Grid Search:\n",
    "* As mentioned above, in a random search, grid search also uses the same methodology but with a difference. In this method, each combination of hyperparameter value is tried. This makes the process time consuming, or in short, inefficient. Say we have given 20 different hyperparameter values for 4 different hyperparameters. Then there would be 160,000 trials for a model. This sounds a big number and assumes how much time it would consume for a large dataset. Along with this, cross-validation is also added to the grid search, which increases this trial number to 1,600,000 (if 10-fold cross-validation is used).\n",
    "* This method is quite an expensive method in terms of computation power and time, but this is the most efficient method as there is the least possibility of missing out on an optimal solution for a model.\n",
    "* Let’s quickly understand the concept of cross-validation also as it is preferred to use it while doing grid search or random search for hyperparameter tuning."
   ]
  },
  {
   "cell_type": "markdown",
   "id": "13d6341b",
   "metadata": {},
   "source": [
    "<h1 style=\"font-family:Times New Roman; color:#FF0000; background-color:#FFFFFF;text-align: Left Corner;\">Hyperparameter Tuning: Grid Search CV</h1>"
   ]
  },
  {
   "cell_type": "code",
   "execution_count": 81,
   "id": "0cb5a1c5",
   "metadata": {},
   "outputs": [
    {
     "name": "stdout",
     "output_type": "stream",
     "text": [
      "Fitting 3 folds for each of 4176 candidates, totalling 12528 fits\n",
      "Best paramters: {'criterion': 'entropy', 'max_depth': 8, 'min_samples_leaf': 4, 'min_samples_split': 2, 'splitter': 'best'}\n"
     ]
    }
   ],
   "source": [
    "# Step:1 importing library\n",
    "from sklearn.model_selection import GridSearchCV\n",
    "\n",
    "# Step:2 Tunning the parameter\n",
    "params = {\n",
    "    \"criterion\":(\"gini\", \"entropy\"), \n",
    "    \"splitter\":(\"best\", \"random\"), \n",
    "    \"max_depth\":(list(range(1, 30))), \n",
    "    \"min_samples_split\":[2, 3, 4,5], \n",
    "    \"min_samples_leaf\":list(range(1, 10)), \n",
    "}\n",
    "\n",
    "\n",
    "tree_c = DecisionTreeClassifier(random_state=3)\n",
    "tree_cv = GridSearchCV(tree_c, params, scoring=\"f1\", n_jobs=-1, verbose=2, cv=3)\n",
    "\n",
    "# Fitting traning data\n",
    "tree_cv.fit(x_train,y_train)\n",
    "\n",
    "# Get the best parameter\n",
    "best_params = tree_cv.best_params_\n",
    "print(f\"Best paramters: {best_params}\")\n",
    "\n"
   ]
  },
  {
   "cell_type": "code",
   "execution_count": 82,
   "id": "cd17fd88",
   "metadata": {},
   "outputs": [],
   "source": [
    "# Step:3 place the parameter on decision tree classifier\n",
    "dt1=DecisionTreeClassifier(criterion='gini',\n",
    "                           max_depth=13,min_samples_leaf=1,\n",
    "                           min_samples_split=2,splitter='best')"
   ]
  },
  {
   "cell_type": "code",
   "execution_count": 83,
   "id": "be9ff4f9",
   "metadata": {},
   "outputs": [],
   "source": [
    "# Step:4 fitting training data\n",
    "dt1.fit(x_train,y_train)\n",
    "\n",
    "# Step:5 prdiction on testing data\n",
    "yhat = dt1.predict(x_test)\n"
   ]
  },
  {
   "cell_type": "markdown",
   "id": "7d186e3f",
   "metadata": {},
   "source": [
    "<h1 style=\"font-family:Times New Roman; color:#FF0000; background-color:#FFFFFF;text-align: Left Corner;\">Testing Score after hyperparameter tuning</h1>"
   ]
  },
  {
   "cell_type": "code",
   "execution_count": 84,
   "id": "b5be5e6d",
   "metadata": {},
   "outputs": [
    {
     "name": "stdout",
     "output_type": "stream",
     "text": [
      " accuracy score :  70.4507512520868\n",
      " precision score :  69.43844492440606\n",
      " recall score :  72.16610549943884\n",
      " f1 score score :  70.77600440286187\n",
      " confusion matrix score : \n",
      " [[623 283]\n",
      " [248 643]]\n",
      " Classification report score : \n",
      "               precision    recall  f1-score   support\n",
      "\n",
      "           0       0.72      0.69      0.70       906\n",
      "           1       0.69      0.72      0.71       891\n",
      "\n",
      "    accuracy                           0.70      1797\n",
      "   macro avg       0.70      0.70      0.70      1797\n",
      "weighted avg       0.70      0.70      0.70      1797\n",
      "\n"
     ]
    }
   ],
   "source": [
    "dt1_test_accuracy = accuracy_score(yhat,y_test)\n",
    "dt1_test_precision = precision_score(yhat, y_test)\n",
    "dt1_test_recall = recall_score(yhat, y_test)\n",
    "dt1_test_f1 = f1_score(yhat, y_test)\n",
    "dt1_test_confusion = confusion_matrix(yhat, y_test)\n",
    "dt1_test_report = classification_report(yhat,y_test)\n",
    "\n",
    "\n",
    "print(\" accuracy score : \",dt1_test_accuracy*100)\n",
    "print(\" precision score : \", dt1_test_precision*100)\n",
    "print(\" recall score : \", dt1_test_recall*100)\n",
    "print(\" f1 score score : \", dt1_test_f1*100)\n",
    "print(\" confusion matrix score : \\n\",dt1_test_confusion)\n",
    "print(\" Classification report score : \\n\",dt1_test_report)"
   ]
  },
  {
   "cell_type": "markdown",
   "id": "e786ab5f",
   "metadata": {},
   "source": [
    "<h1 style=\"font-family:verdana; color:#228B22; background-color:#FFFFE0;text-align: center;\">Random Forest Classifier</h1>"
   ]
  },
  {
   "cell_type": "code",
   "execution_count": 85,
   "id": "54ed09da",
   "metadata": {},
   "outputs": [],
   "source": [
    "# Step:1 import library and object creation\n",
    "from sklearn.ensemble import RandomForestClassifier\n",
    "rf = RandomForestClassifier()\n",
    "\n",
    "# Step:2 fitting the training data\n",
    "rf.fit(x_train,y_train)\n",
    "\n",
    "# Step:3 Prediction on test data\n",
    "rf_test_predict = rf.predict(x_test)\n",
    "\n",
    "# Step:4 Prediction on training data\n",
    "rf_train_predict = rf.predict(x_train)"
   ]
  },
  {
   "cell_type": "markdown",
   "id": "25ab1f6b",
   "metadata": {},
   "source": [
    "<h1 style=\"font-family:Times New Roman; color:#FF0000; background-color:#FFFFFF;text-align: Left Corner;\">Training Score</h1>"
   ]
  },
  {
   "cell_type": "code",
   "execution_count": 86,
   "id": "985a9d32",
   "metadata": {},
   "outputs": [
    {
     "name": "stdout",
     "output_type": "stream",
     "text": [
      "Training accuracy of Random Forest Classifier model:  84.05010438413362\n",
      "Training precision of Random Forest Classifier model:  86.22720897615709\n",
      "Training recall of Random Forest Classifier model:  82.43496916063287\n",
      "Training f1 score of Random Forest Classifier model:  84.28845626542363\n",
      "Training confusion matrix of Random Forest Classifier model: \n",
      " [[2965  491]\n",
      " [ 655 3074]]\n",
      "Random Forest Classifier training Classification report: \n",
      "               precision    recall  f1-score   support\n",
      "\n",
      "           0       0.82      0.86      0.84      3456\n",
      "           1       0.86      0.82      0.84      3729\n",
      "\n",
      "    accuracy                           0.84      7185\n",
      "   macro avg       0.84      0.84      0.84      7185\n",
      "weighted avg       0.84      0.84      0.84      7185\n",
      "\n"
     ]
    }
   ],
   "source": [
    "rf_train_accuracy = accuracy_score(rf_train_predict,y_train)\n",
    "rf_train_precision = precision_score(rf_train_predict, y_train)\n",
    "rf_train_recall = recall_score(rf_train_predict, y_train)\n",
    "rf_train_f1 = f1_score(rf_train_predict, y_train)\n",
    "rf_train_confusion = confusion_matrix(rf_train_predict, y_train)\n",
    "rf_train_report = classification_report(rf_train_predict,y_train)\n",
    "\n",
    "\n",
    "print(\"Training accuracy of Random Forest Classifier model: \",rf_train_accuracy*100)\n",
    "print(\"Training precision of Random Forest Classifier model: \", rf_train_precision*100)\n",
    "print(\"Training recall of Random Forest Classifier model: \", rf_train_recall*100)\n",
    "print(\"Training f1 score of Random Forest Classifier model: \", rf_train_f1*100)\n",
    "print(\"Training confusion matrix of Random Forest Classifier model: \\n\",rf_train_confusion)\n",
    "print(\"Random Forest Classifier training Classification report: \\n\",rf_train_report)"
   ]
  },
  {
   "cell_type": "markdown",
   "id": "576ed75c",
   "metadata": {},
   "source": [
    "<h1 style=\"font-family:Times New Roman; color:#FF0000; background-color:#FFFFFF;text-align: Left Corner;\">Testing Score</h1>"
   ]
  },
  {
   "cell_type": "code",
   "execution_count": 87,
   "id": "a8a237f9",
   "metadata": {},
   "outputs": [
    {
     "name": "stdout",
     "output_type": "stream",
     "text": [
      "Testing accuracy of Random Forest Classifier model:  73.45575959933221\n",
      "Testing precision of Random Forest Classifier model:  74.622030237581\n",
      "Testing recall of Random Forest Classifier model:  74.06216505894963\n",
      "Testing f1 score of Random Forest Classifier model:  74.34104357181279\n",
      "Testing confusion matrix of Random Forest Classifier model: \n",
      " [[629 235]\n",
      " [242 691]]\n",
      "Random Forest Classifier Testing Classification report: \n",
      "               precision    recall  f1-score   support\n",
      "\n",
      "           0       0.72      0.73      0.73       864\n",
      "           1       0.75      0.74      0.74       933\n",
      "\n",
      "    accuracy                           0.73      1797\n",
      "   macro avg       0.73      0.73      0.73      1797\n",
      "weighted avg       0.73      0.73      0.73      1797\n",
      "\n"
     ]
    }
   ],
   "source": [
    "rf_test_accuracy = accuracy_score(rf_test_predict,y_test)\n",
    "rf_test_precision = precision_score(rf_test_predict, y_test)\n",
    "rf_test_recall = recall_score(rf_test_predict, y_test)\n",
    "rf_test_f1 = f1_score(rf_test_predict, y_test)\n",
    "rf_test_confusion = confusion_matrix(rf_test_predict, y_test)\n",
    "rf_test_report = classification_report(rf_test_predict,y_test)\n",
    "\n",
    "\n",
    "print(\"Testing accuracy of Random Forest Classifier model: \",rf_test_accuracy*100)\n",
    "print(\"Testing precision of Random Forest Classifier model: \", rf_test_precision*100)\n",
    "print(\"Testing recall of Random Forest Classifier model: \", rf_test_recall*100)\n",
    "print(\"Testing f1 score of Random Forest Classifier model: \", rf_test_f1*100)\n",
    "print(\"Testing confusion matrix of Random Forest Classifier model: \\n\",rf_test_confusion)\n",
    "print(\"Random Forest Classifier Testing Classification report: \\n\",rf_test_report)"
   ]
  },
  {
   "cell_type": "markdown",
   "id": "ca0d35f6",
   "metadata": {},
   "source": [
    "<h1 style=\"font-family:Times New Roman; color:#FF0000; background-color:#FFFFFF;text-align: Left Corner;\">Hyperparameter Tuning: Randomized Search </h1>"
   ]
  },
  {
   "cell_type": "code",
   "execution_count": 88,
   "id": "83cf3c09",
   "metadata": {},
   "outputs": [
    {
     "name": "stdout",
     "output_type": "stream",
     "text": [
      "Fitting 3 folds for each of 100 candidates, totalling 300 fits\n",
      "Best paramters: {'n_estimators': 2000, 'min_samples_split': 2, 'min_samples_leaf': 1, 'max_features': 'sqrt', 'max_depth': 10})\n"
     ]
    }
   ],
   "source": [
    "# Step:1 [imutation of parameter]\n",
    "from sklearn.model_selection import RandomizedSearchCV\n",
    "# not used grid search cv beacuse memory reason\n",
    "\n",
    "n_estimators = [int(x) for x in np.linspace(start=100, stop=2000, num=10)]\n",
    "max_features = ['auto', 'sqrt'] ### auto - select randomly, sqrt - \n",
    "max_depth = [int(x) for x in np.linspace(10, 110, num=10)] ### level in the tree\n",
    "max_depth.append(None)\n",
    "min_samples_split = [2, 5, 15]\n",
    "min_samples_leaf = [1, 2, 4]\n",
    "\n",
    "\n",
    "# Step:2 make a dictionary of parameter\n",
    "random_grid = {'n_estimators': n_estimators, 'max_features': max_features,\n",
    "               'max_depth': max_depth, 'min_samples_split': min_samples_split,\n",
    "               'min_samples_leaf': min_samples_leaf}\n",
    "\n",
    "# Step:3 Object creation\n",
    "rf_clf1 = RandomForestClassifier(random_state=42) \n",
    "# provide random state beacuse select row and column randomly\n",
    "\n",
    "\n",
    "# Step:4 randomized search cv with parameter\n",
    "rf_cv = RandomizedSearchCV(estimator=rf_clf1, scoring='f1',param_distributions=random_grid, n_iter=100, cv=3, \n",
    "                               verbose=3, random_state=42, n_jobs=-1)\n",
    "\n",
    "\n",
    "# Step:5 fitting the training data\n",
    "rf_cv.fit(x_train, y_train)\n",
    "\n",
    "# Step:6 Getting the best parameter\n",
    "rf_best_params = rf_cv.best_params_\n",
    "print(f\"Best paramters: {rf_best_params})\")\n",
    " \n"
   ]
  },
  {
   "cell_type": "code",
   "execution_count": 89,
   "id": "ac2fb7b6",
   "metadata": {},
   "outputs": [],
   "source": [
    "# Step:7 \n",
    "rf_clf2 = RandomForestClassifier(**rf_best_params)\n",
    "\n",
    "# Step:8 Fitting the training data\n",
    "rf_clf2.fit(x_train,y_train)\n",
    "\n",
    "# Step:9 Prediction on test data\n",
    "y_predict = rf_clf2.predict(x_test)\n"
   ]
  },
  {
   "cell_type": "markdown",
   "id": "1b842340",
   "metadata": {},
   "source": [
    "<h1 style=\"font-family:Times New Roman; color:#FF0000; background-color:#FFFFFF;text-align: Left Corner;\">Testing Score after hyperparameter tuning</h1>"
   ]
  },
  {
   "cell_type": "code",
   "execution_count": 90,
   "id": "9ff3c833",
   "metadata": {},
   "outputs": [
    {
     "name": "stdout",
     "output_type": "stream",
     "text": [
      "Testing accuracy after hyper parameter tunning:  73.95659432387312\n",
      "Testing precision after hyper parameter tunning:  78.40172786177105\n",
      "Testing recall after hyper parameter tunning:  73.03822937625755\n",
      "Testing f1 score after hyper parameter tunning:  75.62500000000001\n",
      "Testing confusion matrix after hyper parameter tunning: \n",
      " [[603 200]\n",
      " [268 726]]\n",
      "Testing Classification report after hyper parameter tunning: \n",
      "               precision    recall  f1-score   support\n",
      "\n",
      "           0       0.69      0.75      0.72       803\n",
      "           1       0.78      0.73      0.76       994\n",
      "\n",
      "    accuracy                           0.74      1797\n",
      "   macro avg       0.74      0.74      0.74      1797\n",
      "weighted avg       0.74      0.74      0.74      1797\n",
      "\n"
     ]
    }
   ],
   "source": [
    "test_accuracy = accuracy_score(y_predict,y_test)\n",
    "test_precision = precision_score(y_predict, y_test)\n",
    "test_recall = recall_score(y_predict, y_test)\n",
    "test_f1 = f1_score(y_predict, y_test)\n",
    "test_confusion = confusion_matrix(y_predict, y_test)\n",
    "test_report = classification_report(y_predict,y_test)\n",
    "print(\"Testing accuracy after hyper parameter tunning: \",test_accuracy*100)\n",
    "print(\"Testing precision after hyper parameter tunning: \", test_precision*100)\n",
    "print(\"Testing recall after hyper parameter tunning: \", test_recall*100)\n",
    "print(\"Testing f1 score after hyper parameter tunning: \", test_f1*100)\n",
    "print(\"Testing confusion matrix after hyper parameter tunning: \\n\",test_confusion)\n",
    "print(\"Testing Classification report after hyper parameter tunning: \\n\",test_report)"
   ]
  },
  {
   "cell_type": "markdown",
   "id": "ae84c8ed",
   "metadata": {},
   "source": [
    "<h1 style=\"font-family:verdana; color:#228B22; background-color:#FFFFE0;text-align: center;\">Gradient Boosting Classifier</h1>"
   ]
  },
  {
   "cell_type": "code",
   "execution_count": 15,
   "id": "863fb17d",
   "metadata": {},
   "outputs": [],
   "source": [
    "# Step:1 Object cretion\n",
    "from sklearn.ensemble import GradientBoostingClassifier\n",
    "gbm=GradientBoostingClassifier(learning_rate=0.1,n_estimators=150,random_state=42)\n",
    "\n",
    "# Step:2 fitting the training data\n",
    "gbm.fit(x_train,y_train) ## fitting the data\n",
    "\n",
    "# Step:3 prediction on test data\n",
    "gbm_test_predict=gbm.predict(x_test)\n",
    "\n",
    "# Step:4 Prediction on train data\n",
    "gbm_train_predict = gbm.predict(x_train)\n"
   ]
  },
  {
   "cell_type": "markdown",
   "id": "6e0642fc",
   "metadata": {},
   "source": [
    "<h1 style=\"font-family:Times New Roman; color:#FF0000; background-color:#FFFFFF;text-align: Left Corner;\">Training Score</h1>"
   ]
  },
  {
   "cell_type": "code",
   "execution_count": 16,
   "id": "39d7730f",
   "metadata": {},
   "outputs": [
    {
     "name": "stdout",
     "output_type": "stream",
     "text": [
      "Training accuracy of Gradient Boosting Classifier model:  74.0848990953375\n",
      "Training precision of Gradient Boosting Classifier model:  78.76577840112202\n",
      "Training recall of Gradient Boosting Classifier model:  71.76079734219269\n",
      "Training f1 score of Gradient Boosting Classifier model:  75.10029419630916\n",
      "Training confusion matrix of Gradient Boosting Classifier model: \n",
      " [[2515  757]\n",
      " [1105 2808]]\n",
      "Gradient Boosting Classifier training Classification report: \n",
      "               precision    recall  f1-score   support\n",
      "\n",
      "           0       0.69      0.77      0.73      3272\n",
      "           1       0.79      0.72      0.75      3913\n",
      "\n",
      "    accuracy                           0.74      7185\n",
      "   macro avg       0.74      0.74      0.74      7185\n",
      "weighted avg       0.75      0.74      0.74      7185\n",
      "\n"
     ]
    }
   ],
   "source": [
    "gbm_train_accuracy = accuracy_score(gbm_train_predict,y_train)\n",
    "gbm_train_precision = precision_score(gbm_train_predict, y_train)\n",
    "gbm_train_recall = recall_score(gbm_train_predict, y_train)\n",
    "gbm_train_f1 = f1_score(gbm_train_predict, y_train)\n",
    "gbm_train_confusion = confusion_matrix(gbm_train_predict, y_train)\n",
    "gbm_train_report = classification_report(gbm_train_predict,y_train)\n",
    "print(\"Training accuracy of Gradient Boosting Classifier model: \",gbm_train_accuracy*100)\n",
    "print(\"Training precision of Gradient Boosting Classifier model: \", gbm_train_precision*100)\n",
    "print(\"Training recall of Gradient Boosting Classifier model: \", gbm_train_recall*100)\n",
    "print(\"Training f1 score of Gradient Boosting Classifier model: \", gbm_train_f1*100)\n",
    "print(\"Training confusion matrix of Gradient Boosting Classifier model: \\n\",gbm_train_confusion)\n",
    "print(\"Gradient Boosting Classifier training Classification report: \\n\",gbm_train_report)"
   ]
  },
  {
   "cell_type": "markdown",
   "id": "75e60096",
   "metadata": {},
   "source": [
    "<h1 style=\"font-family:Times New Roman; color:#FF0000; background-color:#FFFFFF;text-align: Left Corner;\">Testing Score</h1>"
   ]
  },
  {
   "cell_type": "code",
   "execution_count": 17,
   "id": "ce7b700d",
   "metadata": {},
   "outputs": [
    {
     "name": "stdout",
     "output_type": "stream",
     "text": [
      "Testing accuracy of Gradient Boosting Classifier model:  73.90094602114635\n",
      "Testing precision of Gradient Boosting Classifier model:  77.7537796976242\n",
      "Testing recall of Gradient Boosting Classifier model:  73.24516785350966\n",
      "Testing f1 score of Gradient Boosting Classifier model:  75.43216343635412\n",
      "Testing confusion matrix of Gradient Boosting Classifier model: \n",
      " [[608 206]\n",
      " [263 720]]\n",
      "Gradient Boosting Classifier Testing Classification report: \n",
      "               precision    recall  f1-score   support\n",
      "\n",
      "           0       0.70      0.75      0.72       814\n",
      "           1       0.78      0.73      0.75       983\n",
      "\n",
      "    accuracy                           0.74      1797\n",
      "   macro avg       0.74      0.74      0.74      1797\n",
      "weighted avg       0.74      0.74      0.74      1797\n",
      "\n"
     ]
    }
   ],
   "source": [
    "gbm_test_accuracy = accuracy_score(gbm_test_predict,y_test)\n",
    "gbm_test_precision = precision_score(gbm_test_predict, y_test)\n",
    "gbm_test_recall = recall_score(gbm_test_predict, y_test)\n",
    "gbm_test_f1 = f1_score(gbm_test_predict, y_test)\n",
    "gbm_test_confusion = confusion_matrix(gbm_test_predict, y_test)\n",
    "gbm_test_report = classification_report(gbm_test_predict,y_test)\n",
    "\n",
    "\n",
    "print(\"Testing accuracy of Gradient Boosting Classifier model: \",gbm_test_accuracy*100)\n",
    "print(\"Testing precision of Gradient Boosting Classifier model: \", gbm_test_precision*100)\n",
    "print(\"Testing recall of Gradient Boosting Classifier model: \", gbm_test_recall*100)\n",
    "print(\"Testing f1 score of Gradient Boosting Classifier model: \", gbm_test_f1*100)\n",
    "print(\"Testing confusion matrix of Gradient Boosting Classifier model: \\n\",gbm_test_confusion)\n",
    "print(\"Gradient Boosting Classifier Testing Classification report: \\n\",gbm_test_report)"
   ]
  },
  {
   "cell_type": "markdown",
   "id": "2f568f7a",
   "metadata": {},
   "source": [
    "<h1 style=\"font-family:verdana; color:#228B22; background-color:#FFFFE0;text-align: center;\">XGboost Classifier</h1>"
   ]
  },
  {
   "cell_type": "code",
   "execution_count": 94,
   "id": "a08d98d0",
   "metadata": {},
   "outputs": [],
   "source": [
    "# Step:1 import library and object creation\n",
    "import xgboost\n",
    "from xgboost import XGBClassifier\n",
    "xgb = XGBClassifier()\n",
    "\n",
    "# Step:2 Fitting the training data\n",
    "xgb.fit(x_train,y_train)\n",
    "\n",
    "# Step:3 Prediction on training data\n",
    "xgb_train_predict = xgb.predict(x_train)\n",
    "\n",
    "# Step:4 Prediction on testing data\n",
    "xgb_test_predict = xgb.predict(x_test)"
   ]
  },
  {
   "cell_type": "markdown",
   "id": "1b21497d",
   "metadata": {},
   "source": [
    "<h1 style=\"font-family:Times New Roman; color:#FF0000; background-color:#FFFFFF;text-align: Left Corner;\">Training Score</h1>"
   ]
  },
  {
   "cell_type": "code",
   "execution_count": 95,
   "id": "77896263",
   "metadata": {},
   "outputs": [
    {
     "name": "stdout",
     "output_type": "stream",
     "text": [
      "Training accuracy of XGboost Classifier model:  79.97216423103688\n",
      "Training precision of XGboost Classifier model:  81.73913043478261\n",
      "Training recall of XGboost Classifier model:  78.71420853592652\n",
      "Training f1 score of XGboost Classifier model:  80.19815604788771\n",
      "Training confusion matrix of XGboost Classifier model: \n",
      " [[2832  651]\n",
      " [ 788 2914]]\n",
      "XGboost Classifier training Classification report: \n",
      "               precision    recall  f1-score   support\n",
      "\n",
      "           0       0.78      0.81      0.80      3483\n",
      "           1       0.82      0.79      0.80      3702\n",
      "\n",
      "    accuracy                           0.80      7185\n",
      "   macro avg       0.80      0.80      0.80      7185\n",
      "weighted avg       0.80      0.80      0.80      7185\n",
      "\n"
     ]
    }
   ],
   "source": [
    "xgb_train_accuracy = accuracy_score(xgb_train_predict,y_train)\n",
    "xgb_train_precision = precision_score(xgb_train_predict, y_train)\n",
    "xgb_train_recall = recall_score(xgb_train_predict, y_train)\n",
    "xgb_train_f1 = f1_score(xgb_train_predict, y_train)\n",
    "xgb_train_confusion = confusion_matrix(xgb_train_predict, y_train)\n",
    "xgb_train_report = classification_report(xgb_train_predict,y_train)\n",
    "\n",
    "\n",
    "print(\"Training accuracy of XGboost Classifier model: \",xgb_train_accuracy*100)\n",
    "print(\"Training precision of XGboost Classifier model: \", xgb_train_precision*100)\n",
    "print(\"Training recall of XGboost Classifier model: \", xgb_train_recall*100)\n",
    "print(\"Training f1 score of XGboost Classifier model: \", xgb_train_f1*100)\n",
    "print(\"Training confusion matrix of XGboost Classifier model: \\n\",xgb_train_confusion)\n",
    "print(\"XGboost Classifier training Classification report: \\n\",xgb_train_report)"
   ]
  },
  {
   "cell_type": "markdown",
   "id": "dde81b4a",
   "metadata": {},
   "source": [
    "<h1 style=\"font-family:Times New Roman; color:#FF0000; background-color:#FFFFFF;text-align: Left Corner;\">Testing Score</h1>"
   ]
  },
  {
   "cell_type": "code",
   "execution_count": 96,
   "id": "1dcd8f22",
   "metadata": {},
   "outputs": [
    {
     "name": "stdout",
     "output_type": "stream",
     "text": [
      "Testing accuracy of XGboost Classifier model:  73.3444629938787\n",
      "Testing precision of XGboost Classifier model:  73.75809935205183\n",
      "Testing recall of XGboost Classifier model:  74.31991294885746\n",
      "Testing f1 score of XGboost Classifier model:  74.03794037940379\n",
      "Testing confusion matrix of XGboost Classifier model: \n",
      " [[635 243]\n",
      " [236 683]]\n",
      "XGboost Classifier Testing Classification report: \n",
      "               precision    recall  f1-score   support\n",
      "\n",
      "           0       0.73      0.72      0.73       878\n",
      "           1       0.74      0.74      0.74       919\n",
      "\n",
      "    accuracy                           0.73      1797\n",
      "   macro avg       0.73      0.73      0.73      1797\n",
      "weighted avg       0.73      0.73      0.73      1797\n",
      "\n"
     ]
    }
   ],
   "source": [
    "xgb_test_accuracy = accuracy_score(xgb_test_predict,y_test)\n",
    "xgb_test_precision = precision_score(xgb_test_predict, y_test)\n",
    "xgb_test_recall = recall_score(xgb_test_predict, y_test)\n",
    "xgb_test_f1 = f1_score(xgb_test_predict, y_test)\n",
    "xgb_test_confusion = confusion_matrix(xgb_test_predict, y_test)\n",
    "xgb_test_report = classification_report(xgb_test_predict,y_test)\n",
    "\n",
    "\n",
    "print(\"Testing accuracy of XGboost Classifier model: \",xgb_test_accuracy*100)\n",
    "print(\"Testing precision of XGboost Classifier model: \", xgb_test_precision*100)\n",
    "print(\"Testing recall of XGboost Classifier model: \", xgb_test_recall*100)\n",
    "print(\"Testing f1 score of XGboost Classifier model: \", xgb_test_f1*100)\n",
    "print(\"Testing confusion matrix of XGboost Classifier model: \\n\",xgb_test_confusion)\n",
    "print(\"XGboost Classifier Testing Classification report: \\n\",xgb_test_report)"
   ]
  },
  {
   "cell_type": "markdown",
   "id": "08af2c8b",
   "metadata": {},
   "source": [
    "<h1 style=\"font-family:Times New Roman; color:#FF0000; background-color:#FFFFFF;text-align: Left Corner;\">Hyperparameter Tuning: Randomized Search </h1>"
   ]
  },
  {
   "cell_type": "code",
   "execution_count": 97,
   "id": "86b1825a",
   "metadata": {},
   "outputs": [
    {
     "name": "stdout",
     "output_type": "stream",
     "text": [
      "Fitting 5 folds for each of 150 candidates, totalling 750 fits\n",
      "Best parameter: {'reg_lambda': 0.2, 'reg_alpha': 0.02, 'n_estimators': 50, 'max_depth': 7, 'learning_rate': 0.7, 'gamma': 0.8}\n"
     ]
    }
   ],
   "source": [
    "# Step:1 import library \n",
    "from sklearn.model_selection import RandomizedSearchCV\n",
    "param_grid = {'gamma': [0,0.1,0.2,0.4,0.8,1.6,3.2,6.4,12.8,25.6,51.2,102.4, 200],\n",
    "              'learning_rate': [0.001,0.01,0.1, 0.03, 0.06, 0.1, 0.15, 0.02,0.003, 0.4, 0.5, 0.6, 0.7],\n",
    "              'max_depth': [3,5,6,7,8,10],\n",
    "              'n_estimators': [50,65,80,100,130,150],\n",
    "              'reg_alpha': [0,0.01,0.1,0.02,0.2,0.4,0.8,1.6,6.4,12.8,25.6,51.2,102.4,200],\n",
    "              'reg_lambda': [0,0.01,0.1,0.02,0.2,0.4,0.8,1.6,3.2,6.4,12.8,25.6,51.2,102.4,200]}\n",
    "\n",
    "# Step:2 Object creation with parameter\n",
    "XGB = XGBClassifier(random_state=42)\n",
    "\n",
    "# Step:3 Create randomized search cv with parameter\n",
    "rcv = RandomizedSearchCV(estimator=XGB,scoring='f1',param_distributions=param_grid,n_iter=150,\n",
    "                        cv=5,verbose=3,random_state=5,n_jobs=-1)\n",
    "\n",
    "#estimator--number of decision tree\n",
    "#scoring--->performance matrix to check performance\n",
    "#param_distribution-->hyperparametes(dictionary we created)\n",
    "#n_iter--->Number of parameter settings that are sampled. n_iter trades off runtime vs quality of the solution.default=10\n",
    "##cv------> number of flods\n",
    "#verbose=Controls the verbosity: the higher, the more messages.\n",
    "#n_jobs---->Number of jobs to run in parallel,-1 means using all processors.\n",
    "\n",
    "# Step:4 Fitting training data on randomized search cv\n",
    "rcv.fit(x_train,y_train)\n",
    "\n",
    "# Step:5 Get best parameters\n",
    "rcv_best_parameter = rcv.best_params_\n",
    "print(f\"Best parameter: {rcv_best_parameter}\")\n"
   ]
  },
  {
   "cell_type": "code",
   "execution_count": 98,
   "id": "b6dc7dc4",
   "metadata": {},
   "outputs": [],
   "source": [
    "# Step:6 Place the best parameter\n",
    "XGB2 = XGBClassifier(reg_lambda=25.6,reg_alpha=0.8,n_estimators=150,max_depth=10,learning_rate=0.4,gamma=0.2)\n",
    "\n",
    "# Step:7 Fitting the training data\n",
    "XGB2.fit(x_train,y_train)\n",
    "\n",
    "# Step:8 Prediction on testing data\n",
    "XGB_prediction = XGB2.predict(x_test)"
   ]
  },
  {
   "cell_type": "markdown",
   "id": "198b8a5c",
   "metadata": {},
   "source": [
    "<h1 style=\"font-family:Times New Roman; color:#FF0000; background-color:#FFFFFF;text-align: Left Corner;\">Testing Score after hyperparameter tuning</h1>"
   ]
  },
  {
   "cell_type": "code",
   "execution_count": 99,
   "id": "8aec4c13",
   "metadata": {},
   "outputs": [
    {
     "name": "stdout",
     "output_type": "stream",
     "text": [
      "Accuracy after hyperparameter tunning :  72.67668336115747\n",
      "Precision after hyperparameter tunning:  72.78617710583153\n",
      "Recall after hyperparameter tunning:  73.82256297918948\n",
      "F1 score after hyperparameter tunning:  73.30070690592713\n",
      "Confusion matrix after hyperparameter tunning: \n",
      " [[632 252]\n",
      " [239 674]]\n",
      "Classification report after hyperparameter tunning: \n",
      "               precision    recall  f1-score   support\n",
      "\n",
      "           0       0.73      0.71      0.72       884\n",
      "           1       0.73      0.74      0.73       913\n",
      "\n",
      "    accuracy                           0.73      1797\n",
      "   macro avg       0.73      0.73      0.73      1797\n",
      "weighted avg       0.73      0.73      0.73      1797\n",
      "\n"
     ]
    }
   ],
   "source": [
    "XGB_accuracy = accuracy_score(XGB_prediction,y_test)\n",
    "XGB_precision = precision_score(XGB_prediction, y_test)\n",
    "XGB_recall = recall_score(XGB_prediction, y_test)\n",
    "XGB_f1 = f1_score(XGB_prediction, y_test)\n",
    "XGB_confusion = confusion_matrix(XGB_prediction, y_test)\n",
    "XGB_report = classification_report(XGB_prediction,y_test)\n",
    "\n",
    "\n",
    "print(\"Accuracy after hyperparameter tunning : \",XGB_accuracy*100)\n",
    "print(\"Precision after hyperparameter tunning: \", XGB_precision*100)\n",
    "print(\"Recall after hyperparameter tunning: \", XGB_recall*100)\n",
    "print(\"F1 score after hyperparameter tunning: \", XGB_f1*100)\n",
    "print(\"Confusion matrix after hyperparameter tunning: \\n\",XGB_confusion)\n",
    "print(\"Classification report after hyperparameter tunning: \\n\",XGB_report)"
   ]
  },
  {
   "cell_type": "markdown",
   "id": "7ca44b27",
   "metadata": {},
   "source": [
    "<h1 style=\"font-family:verdana; color:#228B22; background-color:#FFFFE0;text-align: center;\">Artificial Neural Network</h1>"
   ]
  },
  {
   "cell_type": "markdown",
   "id": "4c825881",
   "metadata": {},
   "source": [
    "<h1 style=\"font-family:Times New Roman; color:#FF0000; background-color:#FFFFFF;text-align: Left Corner;\">Multi-layer perceptron (MLP)</h1>"
   ]
  },
  {
   "cell_type": "code",
   "execution_count": 100,
   "id": "fa33cb03",
   "metadata": {},
   "outputs": [
    {
     "data": {
      "text/plain": [
       "MLPClassifier(hidden_layer_sizes=(50, 2), max_iter=1000, random_state=45)"
      ]
     },
     "execution_count": 100,
     "metadata": {},
     "output_type": "execute_result"
    }
   ],
   "source": [
    "# Step:1 Importing library and object creation\n",
    "from sklearn.neural_network import MLPClassifier\n",
    "model = MLPClassifier(hidden_layer_sizes=(50,2),\n",
    "                      learning_rate='constant',\n",
    "                      max_iter=1000,\n",
    "                      random_state=45)\n",
    "\n",
    "# Step:2 Fitting the training data\n",
    "model.fit(x_train,y_train)"
   ]
  },
  {
   "cell_type": "code",
   "execution_count": 101,
   "id": "fa5c2e49",
   "metadata": {},
   "outputs": [
    {
     "data": {
      "text/plain": [
       "array([[0.45408998, 0.54591002],\n",
       "       [0.27813605, 0.72186395],\n",
       "       [0.30721302, 0.69278698],\n",
       "       ...,\n",
       "       [0.54331871, 0.45668129],\n",
       "       [0.81209626, 0.18790374],\n",
       "       [0.59105591, 0.40894409]])"
      ]
     },
     "execution_count": 101,
     "metadata": {},
     "output_type": "execute_result"
    }
   ],
   "source": [
    "# Step:3 Predicting the probability\n",
    "mlp_prdict_probability = model.predict_proba(x_test)\n",
    "mlp_prdict_probability"
   ]
  },
  {
   "cell_type": "code",
   "execution_count": 102,
   "id": "16e0dcc2",
   "metadata": {},
   "outputs": [],
   "source": [
    "# Step:4 Prediction on test data\n",
    "mlp_test_predict = model.predict(x_test)\n",
    "\n",
    "# Step:5 Prediction on training data\n",
    "mlp_train_predict = model.predict(x_train)"
   ]
  },
  {
   "cell_type": "markdown",
   "id": "47a8d6d0",
   "metadata": {},
   "source": [
    "<h1 style=\"font-family:Times New Roman; color:#FF0000; background-color:#FFFFFF;text-align: Left Corner;\">Training Score</h1>"
   ]
  },
  {
   "cell_type": "code",
   "execution_count": 104,
   "id": "4adeb9f1",
   "metadata": {},
   "outputs": [
    {
     "name": "stdout",
     "output_type": "stream",
     "text": [
      "Training accuracy of Multi-layer perceptron model:  67.76617954070981\n",
      "Training precision of Multi-layer perceptron model:  73.96914446002805\n",
      "Training recall of Multi-layer perceptron model:  65.51552795031056\n",
      "Training f1 score of Multi-layer perceptron model:  69.48616600790515\n",
      "Training confusion matrix of Multi-layer perceptron model: \n",
      " [[2232  928]\n",
      " [1388 2637]]\n",
      "Multi-layer perceptron training Classification report: \n",
      "               precision    recall  f1-score   support\n",
      "\n",
      "           0       0.62      0.71      0.66      3160\n",
      "           1       0.74      0.66      0.69      4025\n",
      "\n",
      "    accuracy                           0.68      7185\n",
      "   macro avg       0.68      0.68      0.68      7185\n",
      "weighted avg       0.69      0.68      0.68      7185\n",
      "\n"
     ]
    }
   ],
   "source": [
    "mlp_train_accuracy = accuracy_score(mlp_train_predict,y_train)\n",
    "mlp_train_precision = precision_score(mlp_train_predict, y_train)\n",
    "mlp_train_recall = recall_score(mlp_train_predict, y_train)\n",
    "mlp_train_f1 = f1_score(mlp_train_predict, y_train)\n",
    "mlp_train_confusion = confusion_matrix(mlp_train_predict, y_train)\n",
    "mlp_train_report = classification_report(mlp_train_predict,y_train)\n",
    "\n",
    "\n",
    "print(\"Training accuracy of Multi-layer perceptron model: \",mlp_train_accuracy*100)\n",
    "print(\"Training precision of Multi-layer perceptron model: \", mlp_train_precision*100)\n",
    "print(\"Training recall of Multi-layer perceptron model: \", mlp_train_recall*100)\n",
    "print(\"Training f1 score of Multi-layer perceptron model: \", mlp_train_f1*100)\n",
    "print(\"Training confusion matrix of Multi-layer perceptron model: \\n\",mlp_train_confusion)\n",
    "print(\"Multi-layer perceptron training Classification report: \\n\",mlp_train_report)"
   ]
  },
  {
   "cell_type": "markdown",
   "id": "b08ecd79",
   "metadata": {},
   "source": [
    "<h1 style=\"font-family:Times New Roman; color:#FF0000; background-color:#FFFFFF;text-align: Left Corner;\">Testing Score</h1>"
   ]
  },
  {
   "cell_type": "code",
   "execution_count": 105,
   "id": "746c2c08",
   "metadata": {},
   "outputs": [
    {
     "name": "stdout",
     "output_type": "stream",
     "text": [
      "Testing accuracy of Multi-layer perceptron model:  67.16750139120758\n",
      "Testing precision of Multi-layer perceptron model:  72.57019438444925\n",
      "Testing recall of Multi-layer perceptron model:  66.66666666666666\n",
      "Testing f1 score of Multi-layer perceptron model:  69.49327817993795\n",
      "Testing confusion matrix of Multi-layer perceptron model: \n",
      " [[535 254]\n",
      " [336 672]]\n",
      "Multi-layer perceptron Testing Classification report: \n",
      "               precision    recall  f1-score   support\n",
      "\n",
      "           0       0.61      0.68      0.64       789\n",
      "           1       0.73      0.67      0.69      1008\n",
      "\n",
      "    accuracy                           0.67      1797\n",
      "   macro avg       0.67      0.67      0.67      1797\n",
      "weighted avg       0.68      0.67      0.67      1797\n",
      "\n"
     ]
    }
   ],
   "source": [
    "mlp_test_accuracy = accuracy_score(mlp_test_predict,y_test)\n",
    "mlp_test_precision = precision_score(mlp_test_predict, y_test)\n",
    "mlp_test_recall = recall_score(mlp_test_predict, y_test)\n",
    "mlp_test_f1 = f1_score(mlp_test_predict, y_test)\n",
    "mlp_test_confusion = confusion_matrix(mlp_test_predict, y_test)\n",
    "mlp_test_report = classification_report(mlp_test_predict,y_test)\n",
    "\n",
    "\n",
    "print(\"Testing accuracy of Multi-layer perceptron model: \",mlp_test_accuracy*100)\n",
    "print(\"Testing precision of Multi-layer perceptron model: \", mlp_test_precision*100)\n",
    "print(\"Testing recall of Multi-layer perceptron model: \", mlp_test_recall*100)\n",
    "print(\"Testing f1 score of Multi-layer perceptron model: \", mlp_test_f1*100)\n",
    "print(\"Testing confusion matrix of Multi-layer perceptron model: \\n\",mlp_test_confusion)\n",
    "print(\"Multi-layer perceptron Testing Classification report: \\n\",mlp_test_report)"
   ]
  },
  {
   "cell_type": "markdown",
   "id": "aafd2c1d",
   "metadata": {},
   "source": [
    "<h1 style=\"font-family:verdana; color:#228B22; background-color:#FFFFE0;text-align: center;\">Conclusion</h1>"
   ]
  },
  {
   "cell_type": "markdown",
   "id": "ab9e3e9f",
   "metadata": {},
   "source": [
    "Among the algorithms evaluated, the Random Forest Classifier and Gradient Boosting Classifier achieved the highest testing accuracy, with Random Forest slightly edging out Gradient Boosting.\n",
    "\n",
    "Random Forest Classifier also showed good precision, recall, and F1-score, indicating a balanced performance. But Gradient Boosting models outperformed other algorithms in terms of testing accuracy, making them strong contenders for lead category prediction.\n",
    "\n",
    "The business goal of FicZon Inc is to improve sales effectiveness through lead categorization. Therefore, the choice should prioritize models that provide better accuracy in identifying high-potential leads, as this would contribute to increased sales.\n",
    "\n",
    "Selecting the <font color='tomato'>Gradient Boosting Classifier</font> as the chosen algorithm for lead category prediction is a reasonable decision, especially considering that hyperparameter tuning hasn't been applied to any of the evaluated algorithms. Despite not fine-tuning, the Gradient Boosting Classifier achieved a commendable testing accuracy of approximately 73%. \n",
    "\n",
    "This indicates that the model exhibits promising predictive power in categorizing leads as either High Potential or Low Potential. It's worth noting that the Gradient Boosting Classifier has a reputation for being robust and capable of capturing complex relationships within data, which aligns well with the project's objective of enhancing sales effectiveness through more accurate lead categorization. \n",
    "\n",
    "With further optimization through hyperparameter tuning and potential feature engineering, the model's performance could be further improved, potentially driving even greater sales effectiveness for FicZon Inc."
   ]
  },
  {
   "cell_type": "code",
   "execution_count": null,
   "id": "343d392e",
   "metadata": {},
   "outputs": [],
   "source": []
  },
  {
   "cell_type": "code",
   "execution_count": null,
   "id": "7f1c6627",
   "metadata": {},
   "outputs": [],
   "source": []
  },
  {
   "cell_type": "code",
   "execution_count": null,
   "id": "d4218ff4",
   "metadata": {},
   "outputs": [],
   "source": []
  }
 ],
 "metadata": {
  "kernelspec": {
   "display_name": "Python 3 (ipykernel)",
   "language": "python",
   "name": "python3"
  },
  "language_info": {
   "codemirror_mode": {
    "name": "ipython",
    "version": 3
   },
   "file_extension": ".py",
   "mimetype": "text/x-python",
   "name": "python",
   "nbconvert_exporter": "python",
   "pygments_lexer": "ipython3",
   "version": "3.9.13"
  }
 },
 "nbformat": 4,
 "nbformat_minor": 5
}
